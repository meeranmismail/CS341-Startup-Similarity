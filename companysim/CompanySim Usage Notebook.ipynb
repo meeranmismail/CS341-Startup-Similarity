{
 "cells": [
  {
   "cell_type": "markdown",
   "metadata": {},
   "source": [
    "# Purpose:\n",
    "     Example usage of CompanySim package to build a graph on a company corpus and then use the Jaccard Similarity and a Dot Product Score to determine similarity between pairs of companies"
   ]
  },
  {
   "cell_type": "markdown",
   "metadata": {},
   "source": [
    "1) Import a curated dataset of ~100,000 companies, each with a pitch book description, and some with a crunch base provided description. Both descriptions text has been combined into one text in the 'comb_desc' column"
   ]
  },
  {
   "cell_type": "code",
   "execution_count": 1,
   "metadata": {
    "collapsed": false,
    "deletable": true,
    "editable": true
   },
   "outputs": [
    {
     "name": "stdout",
     "output_type": "stream",
     "text": [
      "(101035, 8)\n"
     ]
    },
    {
     "data": {
      "text/html": [
       "<div>\n",
       "<table border=\"1\" class=\"dataframe\">\n",
       "  <thead>\n",
       "    <tr style=\"text-align: right;\">\n",
       "      <th></th>\n",
       "      <th>cb_category</th>\n",
       "      <th>cb_desc</th>\n",
       "      <th>domain</th>\n",
       "      <th>pb_category</th>\n",
       "      <th>pb_desc</th>\n",
       "      <th>tx_category</th>\n",
       "      <th>tx_industry</th>\n",
       "      <th>comb_desc</th>\n",
       "    </tr>\n",
       "  </thead>\n",
       "  <tbody>\n",
       "    <tr>\n",
       "      <th>0</th>\n",
       "      <td>NaN</td>\n",
       "      <td>NaN</td>\n",
       "      <td>0-in.com</td>\n",
       "      <td>Automation/Workflow Software</td>\n",
       "      <td>Operator of an assertion-based verification co...</td>\n",
       "      <td>Semiconductors</td>\n",
       "      <td>Technology</td>\n",
       "      <td>Operator of an assertion-based verification co...</td>\n",
       "    </tr>\n",
       "  </tbody>\n",
       "</table>\n",
       "</div>"
      ],
      "text/plain": [
       "  cb_category cb_desc    domain                   pb_category  \\\n",
       "0         NaN     NaN  0-in.com  Automation/Workflow Software   \n",
       "\n",
       "                                             pb_desc     tx_category  \\\n",
       "0  Operator of an assertion-based verification co...  Semiconductors   \n",
       "\n",
       "  tx_industry                                          comb_desc  \n",
       "0  Technology  Operator of an assertion-based verification co...  "
      ]
     },
     "execution_count": 1,
     "metadata": {},
     "output_type": "execute_result"
    }
   ],
   "source": [
    "from companysim import CompanyCorpus, CompanyGraph\n",
    "import pandas as pd\n",
    "import numpy as np\n",
    "\n",
    "### 100,000 companies with combined cb and pb descriptions as well as the companies from the training set\n",
    "company_list = pd.read_csv('../data/100k_cb_and_pb_desc.csv',  encoding = \"ISO-8859-1\", \\\n",
    "                           usecols=['domain', 'tx_industry', 'cb_category', 'tx_category', 'pb_desc',\n",
    "                                    'cb_desc', 'pb_category', 'comb_desc'], dtype={2: str, 4: str})\n",
    "\n",
    "print(company_list.shape)\n",
    "company_list.head(1)"
   ]
  },
  {
   "cell_type": "markdown",
   "metadata": {},
   "source": [
    "2) Utilize the CompanySim package to create a CompanyCorpus and a CompanyGraph\n",
    " - CompanyCorpus takes a pandas DataFrame as input (see company_list structure above) and takes care of computing the idf vector as well as filtering descriptions by top IDF value\n",
    " - CompanyGraph takes the created CompanyCorpus object as input and builds the LSH forest and the Graph from the LSH forest\n",
    " \n",
    " Note: This takes ~25-40 minutes to run depending on NUMBER_SIMILAR_COMPANIES (keep less than 200) and computer run on\n",
    "\n",
    " Note 2: The percent complete has a little bug and stops at 99% but it actually completed, I just haven't fixed it yet"
   ]
  },
  {
   "cell_type": "code",
   "execution_count": 2,
   "metadata": {
    "collapsed": false,
    "deletable": true,
    "editable": true
   },
   "outputs": [
    {
     "name": "stdout",
     "output_type": "stream",
     "text": [
      "IDF Completed!\n",
      "Filter by IDF Percent Complete: 99.00%\n",
      "LSH Forest Build Percent Complete: 99.00%\n",
      "Graph Build Percent Complete: 99.00%\n",
      "Done!\n",
      "Time: 22.18 minutes\n"
     ]
    },
    {
     "data": {
      "text/plain": [
       "<101035x101035 sparse matrix of type '<class 'numpy.float64'>'\n",
       "\twith 15195012 stored elements in Compressed Sparse Row format>"
      ]
     },
     "execution_count": 2,
     "metadata": {},
     "output_type": "execute_result"
    }
   ],
   "source": [
    "# Setup CompanyCorpus Instance\n",
    "from timeit import default_timer as timer\n",
    "\n",
    "start = timer()\n",
    "\n",
    "# Tuning parameters\n",
    "NUMBER_OF_WORDS = 50\n",
    "NUMBER_SIMILAR_COMPANIES = 100\n",
    "\n",
    "# Inputs:\n",
    "DESCRIPTION_COLUMN = 'comb_desc'\n",
    "\n",
    "NAME_COLUMN = 'domain'\n",
    "\n",
    "# Create an instance of the CompanyCorpus class using the company list\n",
    "cc = CompanyCorpus(company_list)\n",
    "\n",
    "# Build the idf_vector\n",
    "cc.build_idf(description_column_name=DESCRIPTION_COLUMN)\n",
    "print(\"IDF Completed!\")\n",
    "# Filter descriptions by cutting out the number of words specified in NUMBER_OF_WORDS\n",
    "cc.filter_desc_by_idf(description_column_name=DESCRIPTION_COLUMN,\n",
    "                      number_words_to_cut=NUMBER_OF_WORDS)\n",
    "\n",
    "# Create a CompanyGraph\n",
    "cg = CompanyGraph(cc)\n",
    "cg.build_lsh_forest(company_name_column_name=NAME_COLUMN)\n",
    "cg.build_graph(sensitivity=NUMBER_SIMILAR_COMPANIES)\n",
    "\n",
    "end = timer()\n",
    "print(\"Time: {0:0.2f} minutes\".format((end - start)/60)) \n",
    "\n",
    "# Show info about the completed graph\n",
    "cg.graph\n"
   ]
  },
  {
   "cell_type": "markdown",
   "metadata": {},
   "source": [
    "3) Import the training data set to now build the KNN classifier"
   ]
  },
  {
   "cell_type": "code",
   "execution_count": 4,
   "metadata": {
    "collapsed": false,
    "deletable": true,
    "editable": true
   },
   "outputs": [
    {
     "name": "stdout",
     "output_type": "stream",
     "text": [
      "935\n"
     ]
    }
   ],
   "source": [
    "# Import Training data:\n",
    "#     Set of company pairs with pitch book descriptions for use in training a classifier\n",
    "training_pairs_df = pd.read_csv('../data/rated_pairs_1_3_only_filtered_desc.csv')\n",
    "print(training_pairs_df.shape[0])"
   ]
  },
  {
   "cell_type": "markdown",
   "metadata": {},
   "source": [
    "4) Set up the training data set by creating a new dataframe of the company pairs with their corresponding dot product score, jaccard similarity and known rating"
   ]
  },
  {
   "cell_type": "code",
   "execution_count": 5,
   "metadata": {
    "collapsed": false,
    "deletable": true,
    "editable": true
   },
   "outputs": [
    {
     "data": {
      "text/html": [
       "<div>\n",
       "<table border=\"1\" class=\"dataframe\">\n",
       "  <thead>\n",
       "    <tr style=\"text-align: right;\">\n",
       "      <th></th>\n",
       "      <th>domain1</th>\n",
       "      <th>domain2</th>\n",
       "      <th>rating</th>\n",
       "      <th>dot_product</th>\n",
       "      <th>jaccard</th>\n",
       "    </tr>\n",
       "  </thead>\n",
       "  <tbody>\n",
       "    <tr>\n",
       "      <th>0</th>\n",
       "      <td>2trg.com</td>\n",
       "      <td>2u.com</td>\n",
       "      <td>0</td>\n",
       "      <td>0.000000</td>\n",
       "      <td>0.000000</td>\n",
       "    </tr>\n",
       "    <tr>\n",
       "      <th>1</th>\n",
       "      <td>teamtreehouse.com</td>\n",
       "      <td>onkea.com</td>\n",
       "      <td>0</td>\n",
       "      <td>0.058293</td>\n",
       "      <td>0.068986</td>\n",
       "    </tr>\n",
       "    <tr>\n",
       "      <th>2</th>\n",
       "      <td>andara.bi</td>\n",
       "      <td>domo.com</td>\n",
       "      <td>1</td>\n",
       "      <td>0.000000</td>\n",
       "      <td>0.000000</td>\n",
       "    </tr>\n",
       "    <tr>\n",
       "      <th>3</th>\n",
       "      <td>bugcrowd.com</td>\n",
       "      <td>synack.com</td>\n",
       "      <td>1</td>\n",
       "      <td>0.001760</td>\n",
       "      <td>0.068500</td>\n",
       "    </tr>\n",
       "    <tr>\n",
       "      <th>4</th>\n",
       "      <td>i2istudy.com</td>\n",
       "      <td>livemocha.com</td>\n",
       "      <td>1</td>\n",
       "      <td>0.000000</td>\n",
       "      <td>0.104900</td>\n",
       "    </tr>\n",
       "  </tbody>\n",
       "</table>\n",
       "</div>"
      ],
      "text/plain": [
       "             domain1        domain2  rating  dot_product   jaccard\n",
       "0           2trg.com         2u.com       0     0.000000  0.000000\n",
       "1  teamtreehouse.com      onkea.com       0     0.058293  0.068986\n",
       "2          andara.bi       domo.com       1     0.000000  0.000000\n",
       "3       bugcrowd.com     synack.com       1     0.001760  0.068500\n",
       "4       i2istudy.com  livemocha.com       1     0.000000  0.104900"
      ]
     },
     "execution_count": 5,
     "metadata": {},
     "output_type": "execute_result"
    }
   ],
   "source": [
    "### Set up the training and test data\n",
    "\n",
    "dot_scores = []\n",
    "jaccard_sims = []\n",
    "\n",
    "idf_set = set(cg.company_corpus.idf_vector.index)\n",
    "idf_map_dict = dict(zip(cg.company_corpus.idf_vector.index, cg.company_corpus.idf_vector.values))\n",
    "company_words_list = list(cg.company_corpus.corpus.loc[:, 'rare_words'])\n",
    "\n",
    "for domain1, domain2 in zip(training_pairs_df['domain1'].values, training_pairs_df['domain2'].values):\n",
    "    dot_score = cg.get_dot_product_score(domain1, domain2)\n",
    "    dot_scores.append(dot_score)\n",
    "\n",
    "    jaccard_sim_score = cg.get_jaccard_similarity(domain1, domain2)\n",
    "    jaccard_sims.append(jaccard_sim_score)\n",
    "    \n",
    "    \n",
    "training_data_df = training_pairs_df.loc[:,('domain1', 'domain2', 'rating')]\n",
    "training_data_df['dot_product'] = dot_scores\n",
    "training_data_df['jaccard'] = jaccard_sims\n",
    "\n",
    "\n",
    "# Change all '3' ratings to '0' rating \n",
    "training_data_df['rating'] = training_data_df['rating'].replace(3, 0)\n",
    "\n",
    "training_data_df.head()"
   ]
  },
  {
   "cell_type": "markdown",
   "metadata": {},
   "source": [
    "5) Setup the data further by getting the features and known ratings into training and test data"
   ]
  },
  {
   "cell_type": "code",
   "execution_count": 6,
   "metadata": {
    "collapsed": false,
    "deletable": true,
    "editable": true
   },
   "outputs": [
    {
     "name": "stdout",
     "output_type": "stream",
     "text": [
      "(701, 2)\n",
      "(234, 2)\n"
     ]
    }
   ],
   "source": [
    "from sklearn.model_selection import train_test_split\n",
    "from sklearn.neighbors import KNeighborsClassifier \n",
    "from sklearn.linear_model import LogisticRegression\n",
    "from sklearn.model_selection import cross_val_score\n",
    "\n",
    "# Single feature for testing \n",
    "#features_all = training_data_df['dot_product'].values.reshape(-1, 1)\n",
    "\n",
    "# Get both the score and jaccard similarity into one feature matrix\n",
    "features_all = np.array((training_data_df['dot_product'], training_data_df['jaccard'])).T\n",
    "\n",
    "# Get the known ratings for the model\n",
    "known_ratings = training_data_df['rating'].values\n",
    "\n",
    "# Shuffle the data into training and test sets\n",
    "X_train, X_test, y_train, y_test = train_test_split(features_all, known_ratings, test_size=0.25, random_state=0)\n",
    "\n",
    "print(X_train.shape)\n",
    "print(X_test.shape)"
   ]
  },
  {
   "cell_type": "markdown",
   "metadata": {},
   "source": [
    "6) Perform cross validation of the KNN model to get the best number of neighbors to use"
   ]
  },
  {
   "cell_type": "code",
   "execution_count": 7,
   "metadata": {
    "collapsed": false,
    "scrolled": true
   },
   "outputs": [
    {
     "name": "stdout",
     "output_type": "stream",
     "text": [
      "The optimal number of neighbors is 21\n"
     ]
    },
    {
     "data": {
      "image/png": "[encoded data removed]",
      "text/plain": [
       "<matplotlib.figure.Figure at 0x16a355940>"
      ]
     },
     "metadata": {},
     "output_type": "display_data"
    }
   ],
   "source": [
    "import matplotlib.pyplot as plt\n",
    "\n",
    "# Perform Cross Validation of KNN classifier\n",
    "\n",
    "neighbors = list(range(1,50))\n",
    "\n",
    "# empty list that will hold cv scores\n",
    "cv_scores = []\n",
    "\n",
    "# perform 10-fold cross validation\n",
    "for k in neighbors:\n",
    "    knn = KNeighborsClassifier(n_neighbors=k)\n",
    "    scores = cross_val_score(knn, X_train, y_train, cv=10, scoring='accuracy')\n",
    "    cv_scores.append(scores.mean())\n",
    "    \n",
    "# changing to misclassification error\n",
    "MSE = [1 - x for x in cv_scores]\n",
    "\n",
    "# determining best k\n",
    "optimal_k = neighbors[MSE.index(min(MSE))]\n",
    "print(\"The optimal number of neighbors is {}\".format(optimal_k))\n",
    "\n",
    "# plot misclassification error vs k\n",
    "plt.plot(neighbors, MSE)\n",
    "plt.xlabel('Number of Neighbors K')\n",
    "plt.ylabel('Misclassification Error')\n",
    "plt.show()"
   ]
  },
  {
   "cell_type": "markdown",
   "metadata": {},
   "source": [
    "7) Run the KNN model and show the predicted outcomes to get some visual as to if they are all 1's, all 0's or a good mix"
   ]
  },
  {
   "cell_type": "code",
   "execution_count": 8,
   "metadata": {
    "collapsed": false
   },
   "outputs": [
    {
     "data": {
      "text/plain": [
       "array([0, 1, 0, 0, 0, 1, 1, 0, 1, 1, 0, 0, 1, 0, 1, 0, 1, 0, 1, 0, 0, 0, 1,\n",
       "       1, 1, 0, 1, 0, 1, 0, 0, 0, 1, 1, 1, 1, 1, 0, 1, 1, 0, 0, 0, 0, 1, 1,\n",
       "       0, 1, 0, 0, 0, 0, 0, 1, 1, 0, 1, 1, 0, 1, 0, 0, 0, 1, 1, 1, 1, 0, 1,\n",
       "       1, 0, 1, 1, 0, 1, 0, 1, 0, 0, 1, 1, 0, 0, 0, 0, 0, 0, 0, 1, 1, 1, 0,\n",
       "       1, 0, 0, 1, 0, 0, 0, 0, 0, 0, 1, 0, 0, 0, 1, 0, 0, 0, 0, 0, 1, 1, 0,\n",
       "       1, 1, 1, 1, 1, 1, 0, 1, 0, 1, 1, 1, 0, 1, 0, 0, 1, 0, 1, 0, 0, 1, 0,\n",
       "       1, 1, 1, 1, 0, 1, 0, 0, 1, 0, 1, 0, 1, 0, 0, 0, 0, 0, 0, 1, 0, 0, 1,\n",
       "       1, 0, 0, 1, 0, 1, 0, 1, 1, 1, 0, 1, 1, 1, 0, 1, 1, 0, 1, 0, 1, 0, 1,\n",
       "       0, 0, 1, 1, 1, 0, 1, 0, 1, 0, 0, 1, 0, 0, 1, 1, 1, 1, 0, 0, 0, 0, 1,\n",
       "       1, 0, 0, 0, 1, 1, 0, 0, 0, 1, 1, 1, 0, 0, 0, 1, 0, 1, 1, 0, 1, 1, 1,\n",
       "       1, 0, 0, 1])"
      ]
     },
     "execution_count": 8,
     "metadata": {},
     "output_type": "execute_result"
    }
   ],
   "source": [
    "# Train model using optimal neighbors value found previously\n",
    "\n",
    "# Below commented line sues Logistic Regression to get a baseline accuracy\n",
    "#clf = LogisticRegression(penalty='l2')#, class_weight={0:0.8, 1:1})\n",
    "\n",
    "\n",
    "clf = KNeighborsClassifier(n_neighbors=optimal_k)\n",
    "\n",
    "# Fit the model\n",
    "clf.fit(X_train, y_train)\n",
    "\n",
    "# Make predictions\n",
    "predicted = clf.predict(X_test)\n",
    "predicted"
   ]
  },
  {
   "cell_type": "markdown",
   "metadata": {},
   "source": [
    "8) Start of the evaluaton section. This code runs a test to check the prediction on 4 different pairs that are all known to have a '1' rating. (box.com, dropbox.com) etc...\n",
    "\n",
    " Output is an array that should be all 1's"
   ]
  },
  {
   "cell_type": "code",
   "execution_count": 9,
   "metadata": {
    "collapsed": false,
    "deletable": true,
    "editable": true
   },
   "outputs": [
    {
     "name": "stdout",
     "output_type": "stream",
     "text": [
      "Dot Product: 0.0015, JS: 0.0015\n",
      "Dot Product: 0.0000, JS: 0.0000\n",
      "Dot Product: 0.0000, JS: 0.0000\n",
      "Dot Product: 0.0093, JS: 0.0093\n"
     ]
    },
    {
     "data": {
      "text/plain": [
       "[1, 1, 1, 1]"
      ]
     },
     "execution_count": 9,
     "metadata": {},
     "output_type": "execute_result"
    }
   ],
   "source": [
    "test_domain1 = 'box.com'\n",
    "inx1 = cg.name_to_index_map[test_domain1]\n",
    "test_domain2 = ['dropbox.com', 'docusign.com', 'doctape.com', 'docady.com'] \n",
    "\n",
    "similarity = []\n",
    "\n",
    "for domain2 in test_domain2:\n",
    "    score = cg.get_dot_product_score(test_domain1, domain2)\n",
    "    jacc = cg.get_jaccard_similarity(test_domain1, domain2)\n",
    "    print(\"Dot Product: {0:0.4f}, JS: {0:0.4f}\".format(score, jacc))\n",
    "    X_pair = np.array([score, jacc]).reshape(-1,2)\n",
    "\n",
    "    similarity.append(clf.predict(X_pair)[0])\n",
    "similarity"
   ]
  },
  {
   "cell_type": "markdown",
   "metadata": {},
   "source": [
    "9) Now this section calculates all the important evaluation metrics and prints them out"
   ]
  },
  {
   "cell_type": "code",
   "execution_count": 10,
   "metadata": {
    "collapsed": false,
    "deletable": true,
    "editable": true
   },
   "outputs": [
    {
     "name": "stdout",
     "output_type": "stream",
     "text": [
      "Percent correct = 85.043%\n",
      "Percent predicted 1, should be 0 (Less Bad) = 12.393%\n",
      "Percent predicted 0, should be 1 (Very Bad) = 2.564%\n",
      "RMSE = 0.38675\n",
      "Mean Error = 0.14957\n",
      "             precision    recall  f1-score   support\n",
      "\n",
      "          0       0.95      0.80      0.87       144\n",
      "          1       0.74      0.93      0.83        90\n",
      "\n",
      "avg / total       0.87      0.85      0.85       234\n",
      "\n"
     ]
    }
   ],
   "source": [
    "from sklearn import metrics\n",
    "# Print out some important statistics\n",
    "\n",
    "accuracy = predicted - y_test\n",
    "\n",
    "correctness = float(len(accuracy[accuracy == 0]))/len(accuracy)\n",
    "underestimation = float(len(accuracy[accuracy > 0]))/len(accuracy)\n",
    "overestimation = float(len(accuracy[accuracy < 0]))/len(accuracy)\n",
    "print('Percent correct = {0:0.3f}%'.format(correctness*100))\n",
    "print('Percent predicted 1, should be 0 (Less Bad) = {0:0.3f}%'.format(underestimation*100))\n",
    "print('Percent predicted 0, should be 1 (Very Bad) = {0:0.3f}%'.format(overestimation*100))\n",
    "\n",
    "root_mean_squared_error = np.sqrt(float(sum(np.square(accuracy)))/len(accuracy))\n",
    "print('RMSE = {0:0.5f}'.format(root_mean_squared_error))\n",
    "\n",
    "mean_absolute_value_error = float(sum(abs(accuracy)))/len(accuracy)\n",
    "print('Mean Error = {0:0.5f}'.format(mean_absolute_value_error))\n",
    "\n",
    "\n",
    "print(metrics.classification_report(y_test, predicted, labels=[0,1]))"
   ]
  },
  {
   "cell_type": "markdown",
   "metadata": {},
   "source": [
    "10) This code plots the confusion matrix"
   ]
  },
  {
   "cell_type": "code",
   "execution_count": 11,
   "metadata": {
    "collapsed": false,
    "deletable": true,
    "editable": true
   },
   "outputs": [
    {
     "name": "stdout",
     "output_type": "stream",
     "text": [
      "Confusion matrix, without normalization\n",
      "[[115  29]\n",
      " [  6  84]]\n",
      "Normalized confusion matrix\n",
      "[[ 0.8   0.2 ]\n",
      " [ 0.07  0.93]]\n"
     ]
    },
    {
     "data": {
      "image/png": "[encoded data removed]",
      "text/plain": [
       "<matplotlib.figure.Figure at 0x167b49358>"
      ]
     },
     "metadata": {},
     "output_type": "display_data"
    },
    {
     "data": {
      "image/png": "[encoded data removed]",
      "text/plain": [
       "<matplotlib.figure.Figure at 0x167b64e80>"
      ]
     },
     "metadata": {},
     "output_type": "display_data"
    }
   ],
   "source": [
    "import itertools\n",
    "import numpy as np\n",
    "import matplotlib.pyplot as plt\n",
    "\n",
    "from sklearn import svm, datasets\n",
    "from sklearn.metrics import confusion_matrix\n",
    "\n",
    "class_names = np.array([0,1])\n",
    "\n",
    "def plot_confusion_matrix(cm, classes,\n",
    "                          normalize=False,\n",
    "                          title='Confusion matrix',\n",
    "                          cmap=plt.cm.Blues):\n",
    "    \"\"\"\n",
    "    This function prints and plots the confusion matrix.\n",
    "    Normalization can be applied by setting `normalize=True`.\n",
    "    \"\"\"\n",
    "    plt.imshow(cm, interpolation='nearest', cmap=cmap)\n",
    "    plt.title(title)\n",
    "    plt.colorbar()\n",
    "    tick_marks = np.arange(len(classes))\n",
    "    plt.xticks(tick_marks, classes, rotation=45)\n",
    "    plt.yticks(tick_marks, classes)\n",
    "\n",
    "    if normalize:\n",
    "        cm = cm.astype('float') / cm.sum(axis=1)[:, np.newaxis]\n",
    "        print(\"Normalized confusion matrix\")\n",
    "    else:\n",
    "        print('Confusion matrix, without normalization')\n",
    "\n",
    "    print(cm)\n",
    "\n",
    "    thresh = cm.max() / 2.\n",
    "    for i, j in itertools.product(range(cm.shape[0]), range(cm.shape[1])):\n",
    "        plt.text(j, i, cm[i, j],\n",
    "                 horizontalalignment=\"center\",\n",
    "                 color=\"white\" if cm[i, j] > thresh else \"black\")\n",
    "\n",
    "    plt.tight_layout()\n",
    "    plt.ylabel('True label')\n",
    "    plt.xlabel('Predicted label')\n",
    "\n",
    "# Compute confusion matrix\n",
    "cnf_matrix = confusion_matrix(y_test, predicted)\n",
    "np.set_printoptions(precision=2)\n",
    "\n",
    "# Plot non-normalized confusion matrix\n",
    "plt.figure()\n",
    "plot_confusion_matrix(cnf_matrix, classes=class_names,\n",
    "                      title='Confusion matrix, without normalization')\n",
    "\n",
    "# Plot normalized confusion matrix\n",
    "plt.figure()\n",
    "plot_confusion_matrix(cnf_matrix, classes=class_names, normalize=True,\n",
    "                      title='Normalized confusion matrix')\n",
    "\n",
    "plt.show()"
   ]
  },
  {
   "cell_type": "markdown",
   "metadata": {},
   "source": [
    "11) This code plots the training data in a dot product vs. Jaccard similarity graph to visualize how the KNN might be making a distinction "
   ]
  },
  {
   "cell_type": "code",
   "execution_count": 12,
   "metadata": {
    "collapsed": false
   },
   "outputs": [
    {
     "name": "stdout",
     "output_type": "stream",
     "text": [
      "Number of 1's: 379\n",
      "Number of 0's: 556\n"
     ]
    },
    {
     "data": {
      "image/png": "[encoded data removed]",
      "text/plain": [
       "<matplotlib.figure.Figure at 0x167b57278>"
      ]
     },
     "metadata": {},
     "output_type": "display_data"
    }
   ],
   "source": [
    "ones_df = training_data_df.loc[training_data_df['rating'] == 1]\n",
    "zeros_df = training_data_df.loc[training_data_df['rating'] == 0]\n",
    "\n",
    "print(\"Number of 1's: {}\".format(ones_df.shape[0]))\n",
    "print(\"Number of 0's: {}\".format(zeros_df.shape[0]))\n",
    "\n",
    "ax = ones_df.plot.scatter(x='jaccard', y='dot_product', color='r', label='Ones')\n",
    "zeros_df.plot.scatter(x='jaccard', y='dot_product', color='b', label='Zeros', ax=ax)\n",
    "plt.show()"
   ]
  },
  {
   "cell_type": "markdown",
   "metadata": {},
   "source": [
    "12) This code zooms in on the above plot to see the values better closer to zero"
   ]
  },
  {
   "cell_type": "code",
   "execution_count": 13,
   "metadata": {
    "collapsed": false
   },
   "outputs": [
    {
     "data": {
      "image/png": "[encoded data removed]",
      "text/plain": [
       "<matplotlib.figure.Figure at 0x167df21d0>"
      ]
     },
     "metadata": {},
     "output_type": "display_data"
    }
   ],
   "source": [
    "ones_df = ones_df.loc[ones_df['jaccard'] <= 0.1]\n",
    "zeros_df = zeros_df.loc[zeros_df['jaccard'] <= 0.2]\n",
    "\n",
    "ax = ones_df.plot.scatter(x='jaccard', y='dot_product', color='r', label='Ones')\n",
    "zeros_df.plot.scatter(x='jaccard', y='dot_product', color='b', label='Zeros', ax=ax)\n",
    "plt.show()"
   ]
  },
  {
   "cell_type": "markdown",
   "metadata": {},
   "source": [
    "-------- End of main code"
   ]
  },
  {
   "cell_type": "markdown",
   "metadata": {
    "deletable": true,
    "editable": true
   },
   "source": [
    "# Below code helps to visualize if everything is working by printing out descriptions of the most similar companies based on dot product score"
   ]
  },
  {
   "cell_type": "code",
   "execution_count": 46,
   "metadata": {
    "collapsed": false,
    "deletable": true,
    "editable": true
   },
   "outputs": [],
   "source": [
    "company1 = 'dropbox.com'\n",
    "\n",
    "# get the row index of the company, then get the nonzero elements of the row\n",
    "row_index = cg.name_to_index_map[company1]\n",
    "row = cg.graph.getrow(row_index)\n",
    "\n",
    "\n",
    "# test out the JS values in comparison\n",
    "js_sim_vec = []\n",
    "\n",
    "\n",
    "sim_comps = row.nonzero()[1]\n",
    "num_sim_comps = len(sim_comps)\n",
    "\n",
    "dot_prods = np.zeros(num_sim_comps)\n",
    "\n",
    "for j, index2 in enumerate(sim_comps):\n",
    "    company2 = cg.index_to_name_map[index2]\n",
    "    js_val = cg.get_jaccard_similarity(company1, company2)\n",
    "    js_sim_vec.append(js_val)\n",
    "    \n",
    "    \n",
    "    dot_prods[j] = cg.get_dot_product_score(company1, company2)"
   ]
  },
  {
   "cell_type": "code",
   "execution_count": 47,
   "metadata": {
    "collapsed": false,
    "deletable": true,
    "editable": true
   },
   "outputs": [
    {
     "name": "stdout",
     "output_type": "stream",
     "text": [
      "Sorted by Jaccard similarity:\n",
      "    index_2  jacc_sim  dot_prod\n",
      "82  68307.0  1.000000  1.560187\n",
      "32  28545.0  0.247016  0.503756\n",
      "36  33932.0  0.222743  0.411409\n",
      "94  79367.0  0.184430  0.435676\n",
      "17  15030.0  0.183839  0.419374\n",
      "Sorted by dot product:\n",
      "    index_2  jacc_sim  dot_prod\n",
      "82  68307.0  1.000000  1.560187\n",
      "32  28545.0  0.247016  0.503756\n",
      "94  79367.0  0.184430  0.435676\n",
      "17  15030.0  0.183839  0.419374\n",
      "89  72920.0  0.126744  0.418306\n"
     ]
    }
   ],
   "source": [
    "import numpy as np\n",
    "temp_matrix = np.matrix([sim_comps, js_sim_vec, dot_prods])\n",
    "\n",
    "scores_df = pd.DataFrame(temp_matrix.T, columns = ['index_2','jacc_sim','dot_prod'])\n",
    "sorted_dotprod_df = scores_df.sort_values('dot_prod', ascending=False)\n",
    "sorted_js_df = scores_df.sort_values('jacc_sim', ascending=False)\n",
    "print(\"Sorted by Jaccard similarity:\")\n",
    "print(sorted_js_df.head(5))\n",
    "print(\"Sorted by dot product:\")\n",
    "print(sorted_dotprod_df.head(5))"
   ]
  },
  {
   "cell_type": "code",
   "execution_count": 48,
   "metadata": {
    "collapsed": false
   },
   "outputs": [
    {
     "name": "stdout",
     "output_type": "stream",
     "text": [
      "dropbox.com\n"
     ]
    }
   ],
   "source": [
    "row_index = cg.name_to_index_map[company1]\n",
    "print(cg.index_to_name_map[row_index])"
   ]
  },
  {
   "cell_type": "code",
   "execution_count": 49,
   "metadata": {
    "collapsed": false,
    "deletable": true,
    "editable": true
   },
   "outputs": [
    {
     "name": "stdout",
     "output_type": "stream",
     "text": [
      "Highest Score Pair 1\n",
      "--------------------------\n",
      "68307.0 1.56018690354\n",
      "dropbox.com\n",
      "Company 1: dropbox.com\n",
      "Company 2: dropbox.com\n",
      "\n",
      "Company 1 Pitch Book Description 1:\n",
      "Developer of a cloud-based storage platform designed to store documents, files, videos and photos.The company's storage platform enables users to store, share and access files instantly across the web using file synchronization.\n",
      "\n",
      "Company 2 Pitch Book Description 1:\n",
      "Developer of a cloud-based storage platform designed to store documents, files, videos and photos.The company's storage platform enables users to store, share and access files instantly across the web using file synchronization.\n",
      "\n",
      "\n",
      "Company 1 Crunchbase Description 2:\n",
      "Dropbox's mission is to provide a home for everyone's most important information and bring it to life.\n",
      "\n",
      "Company 2 Crunchbase Description 2:\n",
      "Dropbox's mission is to provide a home for everyone's most important information and bring it to life.\n",
      "\n",
      "\n",
      "\n",
      "Highest Score Pair 2\n",
      "--------------------------\n",
      "28545.0 0.503756023897\n",
      "kanbox.com\n",
      "Company 1: dropbox.com\n",
      "Company 2: kanbox.com\n",
      "\n",
      "Company 1 Pitch Book Description 1:\n",
      "Developer of a cloud-based storage platform designed to store documents, files, videos and photos.The company's storage platform enables users to store, share and access files instantly across the web using file synchronization.\n",
      "\n",
      "Company 2 Pitch Book Description 1:\n",
      "Provider of a cloud storage and sharing service. The company allows users to store photos, videos, documents across multiple locations and devices. It also offers mobile access with a new android application.\n",
      "\n",
      "\n",
      "Company 1 Crunchbase Description 2:\n",
      "Dropbox's mission is to provide a home for everyone's most important information and bring it to life.\n",
      "\n",
      "Company 2 Crunchbase Description 2:\n",
      "Kanbox is a network disk and synchronization tool that is used for file management and backup.\n",
      "\n",
      "\n",
      "\n",
      "Highest Score Pair 3\n",
      "--------------------------\n",
      "79367.0 0.435675769542\n",
      "qnext.com\n",
      "Company 1: dropbox.com\n",
      "Company 2: qnext.com\n",
      "\n",
      "Company 1 Pitch Book Description 1:\n",
      "Developer of a cloud-based storage platform designed to store documents, files, videos and photos.The company's storage platform enables users to store, share and access files instantly across the web using file synchronization.\n",
      "\n",
      "Company 2 Pitch Book Description 1:\n",
      "Developer of a cloud-based file sharing tool. The company offers a software tool which helps users to share videos, photos, files, documents and presentations saved anywhere on a corporate storage infrastructure.\n",
      "\n",
      "\n",
      "Company 1 Crunchbase Description 2:\n",
      "Dropbox's mission is to provide a home for everyone's most important information and bring it to life.\n",
      "\n",
      "Company 2 Crunchbase Description 2:\n",
      "Using any internet connected device, secure access, share, collaborate from iOS & Android smart phones, tablets, Macs, Linux or Windows.\n",
      "\n",
      "\n",
      "\n",
      "Highest Score Pair 4\n",
      "--------------------------\n",
      "15030.0 0.419373847279\n",
      "doctape.com\n",
      "Company 1: dropbox.com\n",
      "Company 2: doctape.com\n",
      "\n",
      "Company 1 Pitch Book Description 1:\n",
      "Developer of a cloud-based storage platform designed to store documents, files, videos and photos.The company's storage platform enables users to store, share and access files instantly across the web using file synchronization.\n",
      "\n",
      "Company 2 Pitch Book Description 1:\n",
      "Developer of file management technologies. The company offers a cloud-based online platform that enables users to store, manage and share documents.\n",
      "\n",
      "\n",
      "Company 1 Crunchbase Description 2:\n",
      "Dropbox's mission is to provide a home for everyone's most important information and bring it to life.\n",
      "\n",
      "Company 2 Crunchbase Description 2:\n",
      "Doctape, a Germany-based company, allows its users to organize all their files in the browser, including documents, images, and videos.\n",
      "\n",
      "\n",
      "\n",
      "Highest Score Pair 5\n",
      "--------------------------\n",
      "72920.0 0.418306083507\n",
      "vite.me\n",
      "Company 1: dropbox.com\n",
      "Company 2: vite.me\n",
      "\n",
      "Company 1 Pitch Book Description 1:\n",
      "Developer of a cloud-based storage platform designed to store documents, files, videos and photos.The company's storage platform enables users to store, share and access files instantly across the web using file synchronization.\n",
      "\n",
      "Company 2 Pitch Book Description 1:\n",
      "Developer of a file transfer application. The company develops an application which allows users to transfer photos, music and documents using a phone.\n",
      "\n",
      "\n",
      "Company 1 Crunchbase Description 2:\n",
      "Dropbox's mission is to provide a home for everyone's most important information and bring it to life.\n",
      "\n",
      "Company 2 Crunchbase Description 2:\n",
      "Deals Distribution Network\n",
      "\n",
      "\n",
      "\n"
     ]
    }
   ],
   "source": [
    "\n",
    "comp2_indeces = sorted_dotprod_df['index_2'].values\n",
    "comp2_dotprods = sorted_dotprod_df['dot_prod'].values\n",
    "\n",
    "for i in range(5):\n",
    "    print('Highest Score Pair ' + str(i + 1))\n",
    "    print('--------------------------')\n",
    "    score = comp2_dotprods[i]\n",
    "    index = comp2_indeces[i]\n",
    "\n",
    "    print(index, score)\n",
    "    company_1 = company1\n",
    "    domain_2 = cg.index_to_name_map[index]\n",
    "    \n",
    "    print(domain_2)\n",
    "    company_2 = domain_2\n",
    "\n",
    "    print(\"Company 1: {}\\nCompany 2: {}\\n\".format(company1, domain_2))\n",
    "\n",
    "    print(\"Company 1 Pitch Book Description 1:\\n{}\\n\".format(cg.company_corpus.corpus.ix[row_index]['pb_desc']))\n",
    "    print(\"Company 2 Pitch Book Description 1:\\n{}\".format(cg.company_corpus.corpus.ix[index]['pb_desc']))\n",
    "\n",
    "    print('\\n')\n",
    "    print(\"Company 1 Crunchbase Description 2:\\n{}\\n\".format(cg.company_corpus.corpus.ix[row_index]['cb_desc']))\n",
    "    print(\"Company 2 Crunchbase Description 2:\\n{}\".format(cg.company_corpus.corpus.ix[index]['cb_desc']))\n",
    "    print('\\n\\n')"
   ]
  },
  {
   "cell_type": "markdown",
   "metadata": {},
   "source": [
    "# Notes from meeting 5/30:\n",
    "### 1) See if you can replicate nearest neighbors method by creating a cutoff \n",
    "### of the dot product score and the jaccard similarity\n",
    "### 2) Try on crunch base description only \n",
    "\n",
    "\n",
    "### Algorithm - Build the graph on the core set of companies, then add in companies\n",
    "### Future work: Doc2Vec"
   ]
  }
 ],
 "metadata": {
  "kernelspec": {
   "display_name": "Python 3",
   "language": "python",
   "name": "python3"
  },
  "language_info": {
   "codemirror_mode": {
    "name": "ipython",
    "version": 3
   },
   "file_extension": ".py",
   "mimetype": "text/x-python",
   "name": "python",
   "nbconvert_exporter": "python",
   "pygments_lexer": "ipython3",
   "version": "3.6.0"
  }
 },
 "nbformat": 4,
 "nbformat_minor": 2
}
