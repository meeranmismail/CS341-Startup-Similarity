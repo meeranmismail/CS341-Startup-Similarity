{
 "metadata": {
  "kernelspec": {
   "display_name": "Python 3",
   "language": "python",
   "name": "python3"
  },
  "language_info": {
   "codemirror_mode": {
    "name": "ipython",
    "version": 3
   },
   "file_extension": ".py",
   "mimetype": "text/x-python",
   "name": "python",
   "nbconvert_exporter": "python",
   "pygments_lexer": "ipython3",
   "version": "3.6.0"
  },
  "name": ""
 },
 "nbformat": 3,
 "nbformat_minor": 0,
 "worksheets": [
  {
   "cells": [
    {
     "cell_type": "markdown",
     "metadata": {
      "deletable": true,
      "editable": true
     },
     "source": [
      "### This notebook achieves the following objectives:\n",
      "\n",
      "    A) IDF-Vector Compute the IDF values for each word present in the corpus \n",
      "    of training samples (which in this case is the set of 3000 labeled companies)\n",
      "\n",
      "    B) Generate the graph. Compute the Jaccard similarity between \n",
      "    companies sharing similar high IDF words, and then populate the \n",
      "    graph where a node is a company and an edge is weighted by the \n",
      "    Jaccard similarity between the two companies (if calculated based on cutoff)\n",
      "\n",
      "    C) Run a simple test of taking two companies, placing all of \n",
      "    their weighted edges in a respective vector, then computing \n",
      "    the dot product between these two edges\n",
      "\n",
      "    Conclusion: We have found that the dot product method is \n",
      "    producing results in which the companies with the highest \n",
      "    dot products do in fact appear very similar. See part C for exact results\n"
     ]
    },
    {
     "cell_type": "markdown",
     "metadata": {
      "deletable": true,
      "editable": true
     },
     "source": [
      "# A) IDF Vector\n",
      "### To use an IDF vector, you have two options:\n",
      "\n",
      " #### Option 1: Use this code to generate a new IDF vector from words in the training dataset. This option has multiple cells to run\n",
      " \n",
      " #### Option 2: Use this code to read in a previously stored IDF vector. This option has one cell to run\n",
      "The currently implemented option 2 use case reads in the entire 650,000 companies from the raw data file and filters down to 100,000 companies which all have full pitch book descriptions\n",
      "             \n",
      " Note: Run either option 1 or option 2. If both are run, option 2 IDF vector will be used ebcause it will overwrite the variable set by option 1\n",
      " "
     ]
    },
    {
     "cell_type": "markdown",
     "metadata": {
      "deletable": true,
      "editable": true
     },
     "source": [
      "  ----------------------------------------------------------------------"
     ]
    },
    {
     "cell_type": "heading",
     "level": 3,
     "metadata": {
      "deletable": true,
      "editable": true
     },
     "source": [
      "Option 1"
     ]
    },
    {
     "cell_type": "code",
     "collapsed": true,
     "input": [
      "import math\n",
      "import re\n",
      "from operator import itemgetter\n",
      "import string\n",
      "import nltk\n",
      "\n",
      "class TfIdf:\n",
      "\n",
      "    \"\"\"Tf-idf class implementing http://en.wikipedia.org/wiki/Tf-idf.\n",
      "  \n",
      "     The library constructs an IDF corpus and stopword list either from\n",
      "     documents specified by the client, or by reading from input files.  It\n",
      "     computes IDF for a specified term based on the corpus, or generates\n",
      "     keywords ordered by tf-idf for a specified document.\n",
      "    \"\"\"\n",
      "\n",
      "    def __init__(self, corpus_filename = None, stopword_filename = None,\n",
      "               DEFAULT_IDF = 1.5):\n",
      "        \"\"\"Initialize the idf dictionary.  \n",
      "    \n",
      "        If a corpus file is supplied, reads the idf dictionary from it, in the\n",
      "        format of:\n",
      "        # of total documents\n",
      "        term: # of documents containing the term\n",
      "\n",
      "        If a stopword file is specified, reads the stopword list from it, in\n",
      "        the format of one stopword per line.\n",
      "\n",
      "        The DEFAULT_IDF value is returned when a query term is not found in the\n",
      "        idf corpus.\n",
      "        \"\"\"\n",
      "        self.num_docs = 0\n",
      "        self.term_num_docs = {}     # term : num_docs_containing_term\n",
      "        self.stopwords = []\n",
      "        self.idf_default = DEFAULT_IDF\n",
      "\n",
      "        if corpus_filename:\n",
      "            corpus_file = open(corpus_filename, \"r\")\n",
      "\n",
      "          # Load number of documents.\n",
      "            line = corpus_file.readline()\n",
      "            self.num_docs = int(line.strip())\n",
      "\n",
      "          # Reads \"term:frequency\" from each subsequent line in the file.\n",
      "            for line in corpus_file:\n",
      "                tokens = line.split(\":\")\n",
      "                term = tokens[0].strip()\n",
      "                frequency = int(tokens[1].strip())\n",
      "                self.term_num_docs[term] = frequency\n",
      "\n",
      "        if stopword_filename:\n",
      "            stopword_file = open(stopword_filename, \"r\")\n",
      "            self.stopwords = [line.strip() for line in stopword_file]\n",
      "\n",
      "    def get_tokens(self, doc):\n",
      "        \"\"\"Break a string into tokens, preserving URL tags as an entire token.\n",
      "\n",
      "        This implementation does not preserve case.  \n",
      "        Clients may wish to override this behavior with their own tokenization.\n",
      "        \"\"\"\n",
      "        # Attempt 1 - Faster results (this one is faster than uncommented solution, but doesn't get rid of stop words)\n",
      "        #str_list = [word.lower().translate(str.maketrans(' ', ' ', string.punctuation)) for word in re.split('\\s|\\.|-|,',str(doc))]\n",
      "        \n",
      "        punctuation = '[^\\w\\s]'\n",
      "        doc = pd.Series(doc)\n",
      "        txt = doc.str.lower().str.replace(punctuation, ' ').str.cat(sep=' ')\n",
      "        stopwords = set(nltk.corpus.stopwords.words('english'))\n",
      "        words = nltk.tokenize.word_tokenize(txt)\n",
      "        return set(words) - stopwords\n",
      "\n",
      "        \n",
      "    def add_input_document(self, input):\n",
      "        \"\"\"Add terms in the specified document to the idf dictionary.\"\"\"\n",
      "        self.num_docs += 1\n",
      "        words = set(self.get_tokens(input))\n",
      "        for word in words:\n",
      "            if word in self.term_num_docs:\n",
      "                self.term_num_docs[word] += 1\n",
      "            else:\n",
      "                self.term_num_docs[word] = 1\n",
      "\n",
      "    def save_corpus_to_file(self, idf_filename, stopword_filename,\n",
      "                          STOPWORD_PERCENTAGE_THRESHOLD = 0.01):\n",
      "        \"\"\"Save the idf dictionary and stopword list to the specified file.\"\"\"\n",
      "        output_file = open(idf_filename, \"w\")\n",
      "\n",
      "        output_file.write(str(self.num_docs) + \"\\n\")\n",
      "        for term, num_docs in self.term_num_docs.items():\n",
      "            output_file.write(term + \": \" + str(num_docs) + \"\\n\")\n",
      "\n",
      "        sorted_terms = sorted(self.term_num_docs.items(), key=itemgetter(1),\n",
      "                          reverse=True)\n",
      "        stopword_file = open(stopword_filename, \"w\")\n",
      "        for term, num_docs in sorted_terms:\n",
      "            if num_docs < STOPWORD_PERCENTAGE_THRESHOLD * self.num_docs:\n",
      "                break\n",
      "\n",
      "            stopword_file.write(term + \"\\n\")\n",
      "\n",
      "    def get_num_docs(self):\n",
      "        \"\"\"Return the total number of documents in the IDF corpus.\"\"\"\n",
      "        return self.num_docs\n",
      "\n",
      "    def get_idf(self, term):\n",
      "        \"\"\"Retrieve the IDF for the specified term. \n",
      "    \n",
      "        This is computed by taking the logarithm of ( \n",
      "        (number of documents in corpus) divided by (number of documents\n",
      "        containing this term) ).\n",
      "        \"\"\"\n",
      "        if term in self.stopwords:\n",
      "            return 0\n",
      "\n",
      "        if not term in self.term_num_docs:\n",
      "            return self.idf_default\n",
      "\n",
      "        return math.log(float(1 + self.get_num_docs()) / (1 + self.term_num_docs[term]))"
     ],
     "language": "python",
     "metadata": {
      "deletable": true,
      "editable": true
     },
     "outputs": [],
     "prompt_number": 1
    },
    {
     "cell_type": "heading",
     "level": 4,
     "metadata": {
      "deletable": true,
      "editable": true
     },
     "source": [
      "Now read in the full raw dataset"
     ]
    },
    {
     "cell_type": "code",
     "collapsed": false,
     "input": [
      "import pandas as pd\n",
      "import numpy as np\n",
      "\n",
      "#################### Full Data #########################\n",
      "training_categories_df = pd.read_csv(\"/users/Meeranster/CS341/data/raw_data_fixed.csv\",  encoding = \"ISO-8859-1\", usecols=['domain'\\\n",
      ", 'tx_industry', 'cb_category', 'tx_category', 'cb_desc', 'pb_desc', 'pb_category'])\n",
      "\n",
      "#mydoclist = training_categories_df.ix[0:,'pb_desc'].values"
     ],
     "language": "python",
     "metadata": {
      "deletable": true,
      "editable": true
     },
     "outputs": [
      {
       "output_type": "stream",
       "stream": "stderr",
       "text": [
        "/Applications/Canopy.app/appdata/canopy-1.5.3.3103.macosx-x86_64/Canopy.app/Contents/lib/python2.7/site-packages/IPython/core/interactiveshell.py:2741: DtypeWarning: Columns (1,2,3,4) have mixed types. Specify dtype option on import or set low_memory=False.\n",
        "  interactivity=interactivity, compiler=compiler)\n"
       ]
      }
     ],
     "prompt_number": 2
    },
    {
     "cell_type": "heading",
     "level": 4,
     "metadata": {
      "deletable": true,
      "editable": true
     },
     "source": [
      "Filter out companies that do not have a pitch book provided description"
     ]
    },
    {
     "cell_type": "code",
     "collapsed": false,
     "input": [
      "\n",
      "# Filter out all companies that don't have a pitch book provided description\n",
      "subset_df_pb_desc = training_categories_df.ix[training_categories_df['pb_desc'].notnull()]\n",
      "\n",
      "\n",
      "# Now print out some info\n",
      "len_of_df = subset_df_pb_desc.shape[0]\n",
      "print(\"There are {} companies that have a full pitch book provided description\".format(len_of_df))\n"
     ],
     "language": "python",
     "metadata": {
      "deletable": true,
      "editable": true
     },
     "outputs": [
      {
       "output_type": "stream",
       "stream": "stdout",
       "text": [
        "There are 166406 companies that have a full pitch book provided description\n"
       ]
      }
     ],
     "prompt_number": 3
    },
    {
     "cell_type": "code",
     "collapsed": true,
     "input": [
      "# Uncomment below line if you need to write the filtered companies to a csv\n",
      "#subset_df_pb_desc.to_csv(\"../../data/100000_companies_with_description.csv\")"
     ],
     "language": "python",
     "metadata": {
      "deletable": true,
      "editable": true
     },
     "outputs": [],
     "prompt_number": 4
    },
    {
     "cell_type": "code",
     "collapsed": false,
     "input": [
      "# Cut this down to 10,000 companies using the head function\n",
      "subset_df_pb_desc = subset_df_pb_desc.head(10000)\n",
      "company_list = subset_df_pb_desc\n",
      "print(\"Size of final dataframe to use for building the graph: {}\".format(subset_df_pb_desc.shape[0]))\n",
      "#subset_df_pb_desc"
     ],
     "language": "python",
     "metadata": {
      "deletable": true,
      "editable": true
     },
     "outputs": [
      {
       "output_type": "stream",
       "stream": "stdout",
       "text": [
        "Size of final dataframe to use for building the graph: 10000\n"
       ]
      }
     ],
     "prompt_number": 5
    },
    {
     "cell_type": "heading",
     "level": 5,
     "metadata": {},
     "source": [
      "Adding missing companies from the pairs dataset to the graph."
     ]
    },
    {
     "cell_type": "markdown",
     "metadata": {},
     "source": [
      "First, filter all the rated pairs for those with both PitchBook descriptions present with rating 1 or 3."
     ]
    },
    {
     "cell_type": "code",
     "collapsed": false,
     "input": [
      "rated_pairs =  pd.read_csv(\"/users/Meeranster/CS341/data/company_pairs_training.csv\",  encoding = \"ISO-8859-1\")\n",
      "training_pairs = rated_pairs.ix[rated_pairs['pb_desc1'].notnull()]\n",
      "training_pairs = training_pairs.ix[training_pairs['pb_desc2'].notnull()]\n",
      "training_pairs = training_pairs.ix[training_pairs['rating'] != 2]\n",
      "training_pairs.iloc[0]"
     ],
     "language": "python",
     "metadata": {},
     "outputs": [
      {
       "metadata": {},
       "output_type": "pyout",
       "prompt_number": 6,
       "text": [
        "domain1                                                  2trg.com\n",
        "domain2                                                    2u.com\n",
        "rating                                                          3\n",
        "tx_industry1                                                  NaN\n",
        "cb_category1    Provider of waste recycling services. The comp...\n",
        "tx_category1                         Environmental Services (B2B)\n",
        "pb_desc1                                                CleanTech\n",
        "cb_desc1                                                      NaN\n",
        "pb_industry1                                                  NaN\n",
        "pb_category1                               Environmental Services\n",
        "tx_industry2                Edtech,Enterprise Applications,Edtech\n",
        "cb_category2    Provider of online higher education services. ...\n",
        "tx_category2                                 Educational Software\n",
        "pb_desc2                                                     SaaS\n",
        "cb_desc2        2U is a cloud-based Software-as-a-Service plat...\n",
        "pb_industry2            cloud computing|edtech|education|software\n",
        "pb_category2                                               EdTech\n",
        "Name: 1, dtype: object"
       ]
      }
     ],
     "prompt_number": 6
    },
    {
     "cell_type": "markdown",
     "metadata": {},
     "source": [
      "Now, go through the list of companies in these pairs and see if they are in our initial dataset."
     ]
    },
    {
     "cell_type": "code",
     "collapsed": false,
     "input": [
      "company_set = set(company_list['domain'].values)\n",
      "#domains 1 and 2 are indexes 0 and 1 in the panda series\n",
      "n_pairs = training_pairs.shape[0]\n",
      "new_companies = []\n",
      "newest = 0\n",
      "company1_fields = ['domain1', 'tx_industry1', 'cb_category1', 'tx_category1',\n",
      "                   'cb_desc1', 'pb_desc1', 'pb_category1']\n",
      "company2_fields = ['domain2', 'tx_industry2', 'cb_category2', 'tx_category2',\n",
      "                   'cb_desc2', 'pb_desc2', 'pb_category2']\n",
      "new_fields = ['domain', 'tx_industry', 'cb_category', 'tx_category',\n",
      "                   'cb_desc', 'pb_desc', 'pb_category']\n",
      "for i in range(n_pairs):\n",
      "    company1 = training_pairs.iloc[i]['domain1']\n",
      "    company2 = training_pairs.iloc[i]['domain2']\n",
      "    if company1 not in company_set:\n",
      "        new_companies.append(dict(zip(new_fields, training_pairs.iloc[i][company1_fields])))\n",
      "        company_set.add(company1)\n",
      "        newest += 1\n",
      "    if company2 not in company_set:\n",
      "        new_companies.append(dict(zip(new_fields, training_pairs.iloc[i][company2_fields])))\n",
      "        newest += 1\n",
      "        company_set.add(company2)\n",
      "\n"
     ],
     "language": "python",
     "metadata": {},
     "outputs": [],
     "prompt_number": 7
    },
    {
     "cell_type": "code",
     "collapsed": false,
     "input": [
      "df = pd.DataFrame(new_companies)\n",
      "company_list = company_list.append(df)\n",
      "company_list.reset_index(inplace = True)"
     ],
     "language": "python",
     "metadata": {},
     "outputs": [],
     "prompt_number": 8
    },
    {
     "cell_type": "markdown",
     "metadata": {},
     "source": [
      "Create doclist for idf calculations"
     ]
    },
    {
     "cell_type": "code",
     "collapsed": false,
     "input": [
      "mydoclist = company_list['pb_desc'].values\n",
      "print(len(mydoclist))\n"
     ],
     "language": "python",
     "metadata": {
      "deletable": true,
      "editable": true
     },
     "outputs": [
      {
       "output_type": "stream",
       "stream": "stdout",
       "text": [
        "11024\n"
       ]
      }
     ],
     "prompt_number": 9
    },
    {
     "cell_type": "heading",
     "level": 4,
     "metadata": {
      "deletable": true,
      "editable": true
     },
     "source": [
      "This code computes the actual IDF vector and can take a couple minutes to run with 100,000 samples"
     ]
    },
    {
     "cell_type": "code",
     "collapsed": false,
     "input": [
      "import numpy as np\n",
      "\n",
      "idfcalc = TfIdf()\n",
      "for entry in mydoclist:\n",
      "    idfcalc.add_input_document(entry)\n",
      "#print(idfcalc.term_num_docs)\n",
      "\n",
      "idf_vec = []\n",
      "term_vec = []\n",
      "for term in idfcalc.term_num_docs:\n",
      "    idf = idfcalc.get_idf(term)\n",
      "    idf_vec.append(idf)\n",
      "    term_vec.append(term)"
     ],
     "language": "python",
     "metadata": {
      "deletable": true,
      "editable": true
     },
     "outputs": [],
     "prompt_number": 10
    },
    {
     "cell_type": "heading",
     "level": 4,
     "metadata": {
      "deletable": true,
      "editable": true
     },
     "source": [
      "Convert the IDF vector a pandas Series and sort by IDF value (in descending order)"
     ]
    },
    {
     "cell_type": "code",
     "collapsed": false,
     "input": [
      "idf_vector = pd.Series(idf_vec, index=term_vec)\n",
      "\n",
      "sorted_idf_vector = idf_vector.sort_values(ascending=False)\n",
      "idf_vector = sorted_idf_vector\n",
      "print(idf_vector)"
     ],
     "language": "python",
     "metadata": {
      "deletable": true,
      "editable": true
     },
     "outputs": [
      {
       "output_type": "stream",
       "stream": "stdout",
       "text": [
        "can2go           8.614774\n",
        "repositories     8.614774\n",
        "tilapia          8.614774\n",
        "labelled         8.614774\n",
        "remuneration     8.614774\n",
        "electrolyzers    8.614774\n",
        "cplds            8.614774\n",
        "dwelling         8.614774\n",
        "exotic           8.614774\n",
        "ocumend          8.614774\n",
        "dicing           8.614774\n",
        "balls            8.614774\n",
        "think            8.614774\n",
        "cellulite        8.614774\n",
        "lax              8.614774\n",
        "photopolymer     8.614774\n",
        "americans        8.614774\n",
        "rtsm             8.614774\n",
        "testability      8.614774\n",
        "atlas            8.614774\n",
        "1d               8.614774\n",
        "visas            8.614774\n",
        "adnectins        8.614774\n",
        "psychotic        8.614774\n",
        "nexp             8.614774\n",
        "participates     8.614774\n",
        "frustration      8.614774\n",
        "che168           8.614774\n",
        "1r               8.614774\n",
        "eleven           8.614774\n",
        "                   ...   \n",
        "development      2.749723\n",
        "business         2.734241\n",
        "web              2.721749\n",
        "designed         2.720371\n",
        "enabling         2.698571\n",
        "allows           2.648627\n",
        "helps            2.640964\n",
        "service          2.640964\n",
        "applications     2.494476\n",
        "also             2.452512\n",
        "enables          2.451459\n",
        "operator         2.422411\n",
        "data             2.348522\n",
        "application      2.285053\n",
        "users            2.208719\n",
        "mobile           2.081712\n",
        "management       2.077358\n",
        "technology       2.058706\n",
        "develops         2.029982\n",
        "products         2.027224\n",
        "based            1.901817\n",
        "software         1.852044\n",
        "online           1.607625\n",
        "services         1.334076\n",
        "provides         1.333388\n",
        "offers           1.333388\n",
        "developer        1.215070\n",
        "platform         1.177273\n",
        "provider         0.693419\n",
        "company          0.056534\n",
        "dtype: float64\n"
       ]
      }
     ],
     "prompt_number": 11
    },
    {
     "cell_type": "markdown",
     "metadata": {
      "deletable": true,
      "editable": true
     },
     "source": [
      "Uncomment the below line to save the IDF vector to a file"
     ]
    },
    {
     "cell_type": "code",
     "collapsed": false,
     "input": [
      "# This code saves the IDF vector to a file\n",
      "# idf_vector.to_csv(\"../../data/100000_companies_with_description_idf_vector.csv\")"
     ],
     "language": "python",
     "metadata": {
      "deletable": true,
      "editable": true
     },
     "outputs": [],
     "prompt_number": 51
    },
    {
     "cell_type": "heading",
     "level": 4,
     "metadata": {
      "deletable": true,
      "editable": true
     },
     "source": [
      "End Option 1"
     ]
    },
    {
     "cell_type": "heading",
     "level": 3,
     "metadata": {
      "deletable": true,
      "editable": true
     },
     "source": [
      "Option 2 (skip this if option 1 was utilized, else proceed to read an IDF vector from a csv file)"
     ]
    },
    {
     "cell_type": "code",
     "collapsed": false,
     "input": [
      "import pandas as pd\n",
      "import numpy as np\n",
      "\n",
      "# Read in the IDF vector\n",
      "idf_vector = pd.read_csv(\"../../data/100000_companies_with_description_idf_vector.csv\" ,header=None, \\\n",
      "                         names=['IDF'], index_col=0, encoding = \"ISO-8859-1\")\n",
      "idf_vector"
     ],
     "language": "python",
     "metadata": {
      "deletable": true,
      "editable": true
     },
     "outputs": [
      {
       "html": [
        "<div>\n",
        "<table border=\"1\" class=\"dataframe\">\n",
        "  <thead>\n",
        "    <tr style=\"text-align: right;\">\n",
        "      <th></th>\n",
        "      <th>IDF</th>\n",
        "    </tr>\n",
        "  </thead>\n",
        "  <tbody>\n",
        "    <tr>\n",
        "      <th>dioxin</th>\n",
        "      <td>10.819788</td>\n",
        "    </tr>\n",
        "    <tr>\n",
        "      <th>spiegelmers</th>\n",
        "      <td>10.819788</td>\n",
        "    </tr>\n",
        "    <tr>\n",
        "      <th>nanopositioning</th>\n",
        "      <td>10.819788</td>\n",
        "    </tr>\n",
        "    <tr>\n",
        "      <th>schlumberger</th>\n",
        "      <td>10.819788</td>\n",
        "    </tr>\n",
        "    <tr>\n",
        "      <th>handelsblad</th>\n",
        "      <td>10.819788</td>\n",
        "    </tr>\n",
        "    <tr>\n",
        "      <th>nrc</th>\n",
        "      <td>10.819788</td>\n",
        "    </tr>\n",
        "    <tr>\n",
        "      <th>gassification</th>\n",
        "      <td>10.819788</td>\n",
        "    </tr>\n",
        "    <tr>\n",
        "      <th>pyro</th>\n",
        "      <td>10.819788</td>\n",
        "    </tr>\n",
        "    <tr>\n",
        "      <th>tme</th>\n",
        "      <td>10.819788</td>\n",
        "    </tr>\n",
        "    <tr>\n",
        "      <th>ntag</th>\n",
        "      <td>10.819788</td>\n",
        "    </tr>\n",
        "    <tr>\n",
        "      <th>latticed</th>\n",
        "      <td>10.819788</td>\n",
        "    </tr>\n",
        "    <tr>\n",
        "      <th>ntp</th>\n",
        "      <td>10.819788</td>\n",
        "    </tr>\n",
        "    <tr>\n",
        "      <th>neurotherapeutics</th>\n",
        "      <td>10.819788</td>\n",
        "    </tr>\n",
        "    <tr>\n",
        "      <th>trickster</th>\n",
        "      <td>10.819788</td>\n",
        "    </tr>\n",
        "    <tr>\n",
        "      <th>pangya</th>\n",
        "      <td>10.819788</td>\n",
        "    </tr>\n",
        "    <tr>\n",
        "      <th>omnigen</th>\n",
        "      <td>10.819788</td>\n",
        "    </tr>\n",
        "    <tr>\n",
        "      <th>nutricosmetics</th>\n",
        "      <td>10.819788</td>\n",
        "    </tr>\n",
        "    <tr>\n",
        "      <th>acreages</th>\n",
        "      <td>10.819788</td>\n",
        "    </tr>\n",
        "    <tr>\n",
        "      <th>protide</th>\n",
        "      <td>10.819788</td>\n",
        "    </tr>\n",
        "    <tr>\n",
        "      <th>characteristic</th>\n",
        "      <td>10.819788</td>\n",
        "    </tr>\n",
        "    <tr>\n",
        "      <th>epicheck</th>\n",
        "      <td>10.819788</td>\n",
        "    </tr>\n",
        "    <tr>\n",
        "      <th>careful</th>\n",
        "      <td>10.819788</td>\n",
        "    </tr>\n",
        "    <tr>\n",
        "      <th>chemetics</th>\n",
        "      <td>10.819788</td>\n",
        "    </tr>\n",
        "    <tr>\n",
        "      <th>photosensitive</th>\n",
        "      <td>10.819788</td>\n",
        "    </tr>\n",
        "    <tr>\n",
        "      <th>suscription</th>\n",
        "      <td>10.819788</td>\n",
        "    </tr>\n",
        "    <tr>\n",
        "      <th>nanopositioners</th>\n",
        "      <td>10.819788</td>\n",
        "    </tr>\n",
        "    <tr>\n",
        "      <th>cauterization</th>\n",
        "      <td>10.819788</td>\n",
        "    </tr>\n",
        "    <tr>\n",
        "      <th>miltiple</th>\n",
        "      <td>10.819788</td>\n",
        "    </tr>\n",
        "    <tr>\n",
        "      <th>colli</th>\n",
        "      <td>10.819788</td>\n",
        "    </tr>\n",
        "    <tr>\n",
        "      <th>quadrantanopia</th>\n",
        "      <td>10.819788</td>\n",
        "    </tr>\n",
        "    <tr>\n",
        "      <th>...</th>\n",
        "      <td>...</td>\n",
        "    </tr>\n",
        "    <tr>\n",
        "      <th>allows</th>\n",
        "      <td>2.749195</td>\n",
        "    </tr>\n",
        "    <tr>\n",
        "      <th>information</th>\n",
        "      <td>2.744828</td>\n",
        "    </tr>\n",
        "    <tr>\n",
        "      <th>helps</th>\n",
        "      <td>2.741410</td>\n",
        "    </tr>\n",
        "    <tr>\n",
        "      <th>systems</th>\n",
        "      <td>2.741100</td>\n",
        "    </tr>\n",
        "    <tr>\n",
        "      <th>web</th>\n",
        "      <td>2.703819</td>\n",
        "    </tr>\n",
        "    <tr>\n",
        "      <th>service</th>\n",
        "      <td>2.700687</td>\n",
        "    </tr>\n",
        "    <tr>\n",
        "      <th>applications</th>\n",
        "      <td>2.694601</td>\n",
        "    </tr>\n",
        "    <tr>\n",
        "      <th>business</th>\n",
        "      <td>2.694157</td>\n",
        "    </tr>\n",
        "    <tr>\n",
        "      <th>manufacturer</th>\n",
        "      <td>2.558908</td>\n",
        "    </tr>\n",
        "    <tr>\n",
        "      <th>enables</th>\n",
        "      <td>2.548496</td>\n",
        "    </tr>\n",
        "    <tr>\n",
        "      <th>data</th>\n",
        "      <td>2.471961</td>\n",
        "    </tr>\n",
        "    <tr>\n",
        "      <th>also</th>\n",
        "      <td>2.324841</td>\n",
        "    </tr>\n",
        "    <tr>\n",
        "      <th>application</th>\n",
        "      <td>2.321370</td>\n",
        "    </tr>\n",
        "    <tr>\n",
        "      <th>operator</th>\n",
        "      <td>2.307407</td>\n",
        "    </tr>\n",
        "    <tr>\n",
        "      <th>technology</th>\n",
        "      <td>2.242912</td>\n",
        "    </tr>\n",
        "    <tr>\n",
        "      <th>mobile</th>\n",
        "      <td>2.222214</td>\n",
        "    </tr>\n",
        "    <tr>\n",
        "      <th>users</th>\n",
        "      <td>2.193920</td>\n",
        "    </tr>\n",
        "    <tr>\n",
        "      <th>develops</th>\n",
        "      <td>2.162138</td>\n",
        "    </tr>\n",
        "    <tr>\n",
        "      <th>management</th>\n",
        "      <td>2.041616</td>\n",
        "    </tr>\n",
        "    <tr>\n",
        "      <th>based</th>\n",
        "      <td>2.014788</td>\n",
        "    </tr>\n",
        "    <tr>\n",
        "      <th>software</th>\n",
        "      <td>1.951868</td>\n",
        "    </tr>\n",
        "    <tr>\n",
        "      <th>products</th>\n",
        "      <td>1.943872</td>\n",
        "    </tr>\n",
        "    <tr>\n",
        "      <th>online</th>\n",
        "      <td>1.682341</td>\n",
        "    </tr>\n",
        "    <tr>\n",
        "      <th>developer</th>\n",
        "      <td>1.370470</td>\n",
        "    </tr>\n",
        "    <tr>\n",
        "      <th>provides</th>\n",
        "      <td>1.294455</td>\n",
        "    </tr>\n",
        "    <tr>\n",
        "      <th>platform</th>\n",
        "      <td>1.288343</td>\n",
        "    </tr>\n",
        "    <tr>\n",
        "      <th>offers</th>\n",
        "      <td>1.277881</td>\n",
        "    </tr>\n",
        "    <tr>\n",
        "      <th>services</th>\n",
        "      <td>1.135172</td>\n",
        "    </tr>\n",
        "    <tr>\n",
        "      <th>provider</th>\n",
        "      <td>0.647687</td>\n",
        "    </tr>\n",
        "    <tr>\n",
        "      <th>company</th>\n",
        "      <td>0.026754</td>\n",
        "    </tr>\n",
        "  </tbody>\n",
        "</table>\n",
        "<p>49813 rows \u00d7 1 columns</p>\n",
        "</div>"
       ],
       "metadata": {},
       "output_type": "pyout",
       "prompt_number": 2,
       "text": [
        "                         IDF\n",
        "dioxin             10.819788\n",
        "spiegelmers        10.819788\n",
        "nanopositioning    10.819788\n",
        "schlumberger       10.819788\n",
        "handelsblad        10.819788\n",
        "nrc                10.819788\n",
        "gassification      10.819788\n",
        "pyro               10.819788\n",
        "tme                10.819788\n",
        "ntag               10.819788\n",
        "latticed           10.819788\n",
        "ntp                10.819788\n",
        "neurotherapeutics  10.819788\n",
        "trickster          10.819788\n",
        "pangya             10.819788\n",
        "omnigen            10.819788\n",
        "nutricosmetics     10.819788\n",
        "acreages           10.819788\n",
        "protide            10.819788\n",
        "characteristic     10.819788\n",
        "epicheck           10.819788\n",
        "careful            10.819788\n",
        "chemetics          10.819788\n",
        "photosensitive     10.819788\n",
        "suscription        10.819788\n",
        "nanopositioners    10.819788\n",
        "cauterization      10.819788\n",
        "miltiple           10.819788\n",
        "colli              10.819788\n",
        "quadrantanopia     10.819788\n",
        "...                      ...\n",
        "allows              2.749195\n",
        "information         2.744828\n",
        "helps               2.741410\n",
        "systems             2.741100\n",
        "web                 2.703819\n",
        "service             2.700687\n",
        "applications        2.694601\n",
        "business            2.694157\n",
        "manufacturer        2.558908\n",
        "enables             2.548496\n",
        "data                2.471961\n",
        "also                2.324841\n",
        "application         2.321370\n",
        "operator            2.307407\n",
        "technology          2.242912\n",
        "mobile              2.222214\n",
        "users               2.193920\n",
        "develops            2.162138\n",
        "management          2.041616\n",
        "based               2.014788\n",
        "software            1.951868\n",
        "products            1.943872\n",
        "online              1.682341\n",
        "developer           1.370470\n",
        "provides            1.294455\n",
        "platform            1.288343\n",
        "offers              1.277881\n",
        "services            1.135172\n",
        "provider            0.647687\n",
        "company             0.026754\n",
        "\n",
        "[49813 rows x 1 columns]"
       ]
      }
     ],
     "prompt_number": 2
    },
    {
     "cell_type": "heading",
     "level": 4,
     "metadata": {
      "deletable": true,
      "editable": true
     },
     "source": [
      "End Option 2"
     ]
    },
    {
     "cell_type": "heading",
     "level": 4,
     "metadata": {
      "deletable": true,
      "editable": true
     },
     "source": [
      "Run the next code no matter which option was used"
     ]
    },
    {
     "cell_type": "code",
     "collapsed": false,
     "input": [
      "\n",
      "# Get the idf values in a column vector\n",
      "idf_values = list(idf_vector.values)\n",
      "\n",
      "# Get the words in a column vector. The initial order mathes the \n",
      "# values in the idf_values_array\n",
      "idf_words = list(idf_vector.index.values)\n",
      "# Perform a reshape on the words array to get it in a better format\n",
      "\n",
      "idf_set = set(idf_words)\n",
      "idf_map = dict(zip(idf_words, idf_values))\n"
     ],
     "language": "python",
     "metadata": {
      "deletable": true,
      "editable": true
     },
     "outputs": [],
     "prompt_number": 12
    },
    {
     "cell_type": "heading",
     "level": 1,
     "metadata": {
      "deletable": true,
      "editable": true
     },
     "source": [
      "B) Creating the Graph"
     ]
    },
    {
     "cell_type": "markdown",
     "metadata": {
      "deletable": true,
      "editable": true
     },
     "source": [
      "The next step will be to create an adjacency matrix to store all these values."
     ]
    },
    {
     "cell_type": "code",
     "collapsed": false,
     "input": [
      "import pandas as pd\n",
      "#Uncomment if you did Option 2 instead of Option 1\n",
      "# company_list = pd.read_csv('../../data/100000_companies_with_description.csv',  encoding = \"ISO-8859-1\", \\\n",
      "#                            usecols=['domain', 'tx_industry', 'cb_category', 'tx_category', 'cb_desc',\\\n",
      "#                                     'pb_desc', 'pb_category'])\n",
      "\n",
      "company_list.head()"
     ],
     "language": "python",
     "metadata": {
      "deletable": true,
      "editable": true
     },
     "outputs": [
      {
       "html": [
        "<div style=\"max-width:1500px;overflow:auto;\">\n",
        "<table border=\"1\" class=\"dataframe\">\n",
        "  <thead>\n",
        "    <tr style=\"text-align: right;\">\n",
        "      <th></th>\n",
        "      <th>index</th>\n",
        "      <th>cb_category</th>\n",
        "      <th>cb_desc</th>\n",
        "      <th>domain</th>\n",
        "      <th>pb_category</th>\n",
        "      <th>pb_desc</th>\n",
        "      <th>tx_category</th>\n",
        "      <th>tx_industry</th>\n",
        "    </tr>\n",
        "  </thead>\n",
        "  <tbody>\n",
        "    <tr>\n",
        "      <th>0</th>\n",
        "      <td>2</td>\n",
        "      <td>NaN</td>\n",
        "      <td>NaN</td>\n",
        "      <td>0-in.com</td>\n",
        "      <td>Automation/Workflow Software</td>\n",
        "      <td>Operator of an assertion-based verification co...</td>\n",
        "      <td>Semiconductors</td>\n",
        "      <td>Technology</td>\n",
        "    </tr>\n",
        "    <tr>\n",
        "      <th>1</th>\n",
        "      <td>16</td>\n",
        "      <td>NaN</td>\n",
        "      <td>NaN</td>\n",
        "      <td>012.net</td>\n",
        "      <td>Internet Service Providers</td>\n",
        "      <td>Provider of internet and international telepho...</td>\n",
        "      <td>Telecom Operators</td>\n",
        "      <td>NaN</td>\n",
        "    </tr>\n",
        "    <tr>\n",
        "      <th>2</th>\n",
        "      <td>34</td>\n",
        "      <td>auctions|e-commerce|internet|shopping</td>\n",
        "      <td>1-2-3.tv is a multichannel auction house with ...</td>\n",
        "      <td>1-2-3.tv</td>\n",
        "      <td>Broadcasting, Radio and Television</td>\n",
        "      <td>Operator of television broadcasting station th...</td>\n",
        "      <td>Online Retail</td>\n",
        "      <td>Consumer</td>\n",
        "    </tr>\n",
        "    <tr>\n",
        "      <th>3</th>\n",
        "      <td>35</td>\n",
        "      <td>NaN</td>\n",
        "      <td>NaN</td>\n",
        "      <td>1-2-social.de</td>\n",
        "      <td>Social Content</td>\n",
        "      <td>Provider of social media marketing services. T...</td>\n",
        "      <td>Outsourcing</td>\n",
        "      <td>NaN</td>\n",
        "    </tr>\n",
        "    <tr>\n",
        "      <th>4</th>\n",
        "      <td>47</td>\n",
        "      <td>marketplace|mobile|software|transportation</td>\n",
        "      <td>10-4 is redefining the future of transportatio...</td>\n",
        "      <td>10-4.com</td>\n",
        "      <td>Other Commercial Services</td>\n",
        "      <td>Provider of supply chain visibility technology...</td>\n",
        "      <td>Logistics Tech</td>\n",
        "      <td>Consumer</td>\n",
        "    </tr>\n",
        "  </tbody>\n",
        "</table>\n",
        "</div>"
       ],
       "metadata": {},
       "output_type": "pyout",
       "prompt_number": 13,
       "text": [
        "   index                                 cb_category  \\\n",
        "0      2                                         NaN   \n",
        "1     16                                         NaN   \n",
        "2     34       auctions|e-commerce|internet|shopping   \n",
        "3     35                                         NaN   \n",
        "4     47  marketplace|mobile|software|transportation   \n",
        "\n",
        "                                             cb_desc         domain  \\\n",
        "0                                                NaN       0-in.com   \n",
        "1                                                NaN        012.net   \n",
        "2  1-2-3.tv is a multichannel auction house with ...       1-2-3.tv   \n",
        "3                                                NaN  1-2-social.de   \n",
        "4  10-4 is redefining the future of transportatio...       10-4.com   \n",
        "\n",
        "                          pb_category  \\\n",
        "0        Automation/Workflow Software   \n",
        "1          Internet Service Providers   \n",
        "2  Broadcasting, Radio and Television   \n",
        "3                      Social Content   \n",
        "4           Other Commercial Services   \n",
        "\n",
        "                                             pb_desc        tx_category  \\\n",
        "0  Operator of an assertion-based verification co...     Semiconductors   \n",
        "1  Provider of internet and international telepho...  Telecom Operators   \n",
        "2  Operator of television broadcasting station th...      Online Retail   \n",
        "3  Provider of social media marketing services. T...        Outsourcing   \n",
        "4  Provider of supply chain visibility technology...     Logistics Tech   \n",
        "\n",
        "  tx_industry  \n",
        "0  Technology  \n",
        "1         NaN  \n",
        "2    Consumer  \n",
        "3         NaN  \n",
        "4    Consumer  "
       ]
      }
     ],
     "prompt_number": 13
    },
    {
     "cell_type": "heading",
     "level": 2,
     "metadata": {
      "deletable": true,
      "editable": true
     },
     "source": [
      "============ Stuck here, need to use a sparse matrix"
     ]
    },
    {
     "cell_type": "code",
     "collapsed": true,
     "input": [
      "n_companies = company_list.shape[0]\n",
      "company_graph = np.zeros((n_companies,n_companies))\n",
      "company_graph[:] = 0\n",
      "n_companies"
     ],
     "language": "python",
     "metadata": {
      "deletable": true,
      "editable": true
     },
     "outputs": [
      {
       "metadata": {},
       "output_type": "pyout",
       "prompt_number": 14,
       "text": [
        "11024"
       ]
      }
     ],
     "prompt_number": 14
    },
    {
     "cell_type": "markdown",
     "metadata": {
      "deletable": true,
      "editable": true
     },
     "source": [
      "Next, we'll go through each word and see which companies have that word. \n",
      "We'll go through the top 1000 idf words, find the companies with those words, \n",
      "and then compare them to create the edge weight in the graph.  \n",
      "First, the following function creates a set of words out of the description"
     ]
    },
    {
     "cell_type": "code",
     "collapsed": false,
     "input": [
      "import string\n",
      "import nltk\n",
      "nltk.download('punkt')\n",
      "\n",
      "#Gets the words out of the labeled descriptions\n",
      "def get_words(df):\n",
      "    punctuation = '[^\\w\\s]'\n",
      "    txt = df.str.lower().str.replace(punctuation, ' ').str.cat(sep=' ')\n",
      "    stopwords = set(nltk.corpus.stopwords.words('english'))\n",
      "    words = nltk.tokenize.word_tokenize(txt)\n",
      "    return set(words) - stopwords\n",
      "\n"
     ],
     "language": "python",
     "metadata": {
      "deletable": true,
      "editable": true
     },
     "outputs": [
      {
       "output_type": "stream",
       "stream": "stdout",
       "text": [
        "[nltk_data] Downloading package punkt to\n",
        "[nltk_data]     /Users/Meeranster/nltk_data...\n",
        "[nltk_data]   Package punkt is already up-to-date!"
       ]
      },
      {
       "output_type": "stream",
       "stream": "stdout",
       "text": [
        "\n"
       ]
      }
     ],
     "prompt_number": 15
    },
    {
     "cell_type": "markdown",
     "metadata": {
      "deletable": true,
      "editable": true
     },
     "source": [
      "Now, we create a company_words_list, i.e. each company is associated with a set of words."
     ]
    },
    {
     "cell_type": "code",
     "collapsed": false,
     "input": [
      "company_words_list = [set()]*len(company_list)\n",
      "for i in range(len(company_list)):\n",
      "    pb_desc_index = 5\n",
      "    company_words = get_words(company_list.iloc[i,pb_desc_index:(pb_desc_index + 1)])\n",
      "    company_words_list[i] = company_words\n"
     ],
     "language": "python",
     "metadata": {
      "deletable": true,
      "editable": true
     },
     "outputs": [],
     "prompt_number": 16
    },
    {
     "cell_type": "code",
     "collapsed": false,
     "input": [
      "len(company_words_list)"
     ],
     "language": "python",
     "metadata": {},
     "outputs": [
      {
       "metadata": {},
       "output_type": "pyout",
       "prompt_number": 17,
       "text": [
        "11024"
       ]
      }
     ],
     "prompt_number": 17
    },
    {
     "cell_type": "markdown",
     "metadata": {
      "deletable": true,
      "editable": true
     },
     "source": [
      "This function goes through the list of companies and sees if a \n",
      "given word is in the description for each of the companies, \n",
      "returning a set of company indices with that word."
     ]
    },
    {
     "cell_type": "code",
     "collapsed": false,
     "input": [
      "#given a target word and a pandas data frame of companies, \n",
      "# returns a list of companies whose descriptions contain the target word\n",
      "def get_companies(target_word, company_words_list):\n",
      "    candidate_set = set()\n",
      "    for i in range(len(company_words_list)):\n",
      "        company_description = company_words_list[i]\n",
      "        if target_word in company_description:\n",
      "            candidate_set.add(i)\n",
      "    return list(candidate_set)\n",
      "        "
     ],
     "language": "python",
     "metadata": {
      "deletable": true,
      "editable": true
     },
     "outputs": [],
     "prompt_number": 18
    },
    {
     "cell_type": "markdown",
     "metadata": {
      "deletable": true,
      "editable": true
     },
     "source": [
      "This function takes a candidate pair, and computes their weighted \n",
      "similarity by finding Jaccard similarity and then weighing it by the idf of the words."
     ]
    },
    {
     "cell_type": "code",
     "collapsed": false,
     "input": [
      "def get_similarity(company_index_1, company_index_2, company_words_list, idf_set, idf_map):\n",
      "    company_1 = company_words_list[company_index_1]\n",
      "    company_2 = company_words_list[company_index_2]\n",
      "    intersection = company_1 & company_2\n",
      "    union = company_1 | company_2\n",
      "    if len(union) == 0:\n",
      "        return 0\n",
      "    intersection_score = 0.0\n",
      "    union_score = 0.0\n",
      "    for word in union:\n",
      "        if word in idf_set:\n",
      "            word_score = idf_map[word]\n",
      "            union_score += word_score\n",
      "            if word in intersection:\n",
      "                intersection_score += word_score\n",
      "                \n",
      "    return intersection_score/union_score\n",
      "        "
     ],
     "language": "python",
     "metadata": {
      "deletable": true,
      "editable": true
     },
     "outputs": [],
     "prompt_number": 19
    },
    {
     "cell_type": "markdown",
     "metadata": {
      "deletable": true,
      "editable": true
     },
     "source": [
      "Now, we go through and construct the adjacency matrix."
     ]
    },
    {
     "cell_type": "code",
     "collapsed": false,
     "input": [
      "size(company_graph[company_graph > 0])\n"
     ],
     "language": "python",
     "metadata": {},
     "outputs": [
      {
       "metadata": {},
       "output_type": "pyout",
       "prompt_number": 20,
       "text": [
        "0"
       ]
      }
     ],
     "prompt_number": 20
    },
    {
     "cell_type": "code",
     "collapsed": false,
     "input": [
      "n_updated_elements = 0\n",
      "n_companies = len(company_list)\n",
      "cutoff = 0.05\n",
      "for i in range(n_companies):\n",
      "    for k in range((i+1), n_companies):\n",
      "        edge_weight = get_similarity(i, k, company_words_list, idf_set, idf_map)\n",
      "        if edge_weight >= cutoff:\n",
      "            company_graph[i][k] = edge_weight\n",
      "            company_graph[k][i] = edge_weight\n",
      "        \n",
      "#removing -1's and ensuring 1's along the diagonal\n",
      "\n",
      "np.fill_diagonal(company_graph, 1)\n",
      "company_graph[company_graph < 0] = 0\n",
      "np.save('10kgraph',company_graph)"
     ],
     "language": "python",
     "metadata": {
      "deletable": true,
      "editable": true
     },
     "outputs": [],
     "prompt_number": 23
    },
    {
     "cell_type": "markdown",
     "metadata": {},
     "source": [
      "What's the graph's sparsity?"
     ]
    },
    {
     "cell_type": "code",
     "collapsed": false,
     "input": [
      "n_companies = len(company_list)\n",
      "float(size(company_graph[company_graph > 0]) - n_companies)/(n_companies*n_companies - n_companies)"
     ],
     "language": "python",
     "metadata": {},
     "outputs": [
      {
       "metadata": {},
       "output_type": "pyout",
       "prompt_number": 22,
       "text": [
        "0.03260872141334776"
       ]
      }
     ],
     "prompt_number": 22
    },
    {
     "cell_type": "markdown",
     "metadata": {
      "deletable": true,
      "editable": true
     },
     "source": [
      "Here I test different cutoffs for similarity scores to count as edges."
     ]
    },
    {
     "cell_type": "code",
     "collapsed": false,
     "input": [
      "cutoff_sparsity = np.zeros(20)\n",
      "#cutoff_sparsity[i] gives the sparsity of the graph if similarity threshold is (i+1)*0.01\n",
      "n_possible_edges = float(company_graph.size - n_companies)\n",
      "for i in range(20):\n",
      "    cutoff_sparsity[i] = \\\n",
      "    (company_graph[company_graph > (i+1)*0.01].size - n_companies)/n_possible_edges\n",
      "print(cutoff_sparsity)"
     ],
     "language": "python",
     "metadata": {
      "deletable": true,
      "editable": true
     },
     "outputs": [
      {
       "output_type": "stream",
       "stream": "stdout",
       "text": [
        "[  2.96565522e-03   2.96565522e-03   2.96565522e-03   2.96565522e-03\n",
        "   2.96565522e-03   2.96565522e-03   2.96565522e-03   2.96565522e-03\n",
        "   2.96565522e-03   2.96565522e-03   1.90018895e-03   1.23107703e-03\n",
        "   8.17161276e-04   5.47960431e-04   3.82127376e-04   2.66310993e-04\n",
        "   1.89841058e-04   1.33822385e-04   9.80326776e-05   7.44692675e-05]\n"
       ]
      }
     ],
     "prompt_number": 21
    },
    {
     "cell_type": "heading",
     "level": 1,
     "metadata": {
      "deletable": true,
      "editable": true
     },
     "source": [
      "C) Comparison to Rated Similarity"
     ]
    },
    {
     "cell_type": "heading",
     "level": 4,
     "metadata": {},
     "source": [
      "Dot Products"
     ]
    },
    {
     "cell_type": "code",
     "collapsed": false,
     "input": [
      "#only do this if you have graph saved to cpu\n",
      "company_graph = np.load('10kgraph.npy')"
     ],
     "language": "python",
     "metadata": {},
     "outputs": [],
     "prompt_number": 20
    },
    {
     "cell_type": "code",
     "collapsed": false,
     "input": [
      "domain_index_map = dict(zip(company_list['domain'].values, company_list.index.values))"
     ],
     "language": "python",
     "metadata": {},
     "outputs": [],
     "prompt_number": 21
    },
    {
     "cell_type": "code",
     "collapsed": false,
     "input": [
      "for i in range(company_list.shape[0]):\n",
      "    company_name = company_list.ix[i]['domain']\n",
      "    if domain_index_map[company_name] != i:\n",
      "        print('bug')\n",
      "        break"
     ],
     "language": "python",
     "metadata": {},
     "outputs": [],
     "prompt_number": 22
    },
    {
     "cell_type": "code",
     "collapsed": false,
     "input": [
      "dot_products = np.zeros((n_pairs,1))\n",
      "jaccard = np.zeros((n_pairs,1))\n",
      "for i in range(n_pairs):\n",
      "    company1_index = domain_index_map[training_pairs.iloc[i]['domain1']]\n",
      "    company2_index = domain_index_map[training_pairs.iloc[i]['domain2']]\n",
      "    dot_product = company_graph[company1_index].dot(company_graph[company2_index])\n",
      "    jaccard_sim = company_graph[company1_index][company2_index]\n",
      "    dot_products[i][0] = dot_product\n",
      "    jaccard[i][0] = jaccard_sim\n",
      "#training_pairs['dot_products'] = pd.Series(scores)"
     ],
     "language": "python",
     "metadata": {},
     "outputs": [],
     "prompt_number": 23
    },
    {
     "cell_type": "heading",
     "level": 4,
     "metadata": {},
     "source": [
      "Intersection Size"
     ]
    },
    {
     "cell_type": "code",
     "collapsed": false,
     "input": [
      "common_sizes = np.zeros((n_pairs,1))\n",
      "for i in range(n_pairs):\n",
      "    company1_index = domain_index_map[training_pairs.iloc[i]['domain1']]\n",
      "    company2_index = domain_index_map[training_pairs.iloc[i]['domain2']]\n",
      "    common_sizes[i][0] = len(company_words_list[company1_index] & \n",
      "                          company_words_list[company2_index])"
     ],
     "language": "python",
     "metadata": {},
     "outputs": [],
     "prompt_number": 24
    },
    {
     "cell_type": "heading",
     "level": 4,
     "metadata": {},
     "source": [
      "SVD"
     ]
    },
    {
     "cell_type": "code",
     "collapsed": false,
     "input": [
      "\n",
      "import scipy.sparse as sparse\n",
      "\n",
      "doc_term_matrix = sparse.lil_matrix((n_companies, len(idf_vector)), dtype = float)\n",
      "n_words = len(idf_vector)\n",
      "word_index_map = dict(zip(idf_vector.index.values,range(n_words)))"
     ],
     "language": "python",
     "metadata": {},
     "outputs": [],
     "prompt_number": 42
    },
    {
     "cell_type": "code",
     "collapsed": false,
     "input": [
      "for i in range(n_companies):\n",
      "    for word in company_words_list[i]:\n",
      "        index = word_index_map[word]\n",
      "        doc_term_matrix[i, index] = 1"
     ],
     "language": "python",
     "metadata": {},
     "outputs": [],
     "prompt_number": 43
    },
    {
     "cell_type": "code",
     "collapsed": false,
     "input": [
      "import scipy.sparse.linalg as linalg\n",
      "company_SVD = linalg.svds(doc_term_matrix, 20)"
     ],
     "language": "python",
     "metadata": {},
     "outputs": [],
     "prompt_number": 44
    },
    {
     "cell_type": "code",
     "collapsed": false,
     "input": [
      "dim_reduc = np.zeros((n_pairs,1))\n",
      "for i in range(n_pairs):\n",
      "    company1_index = domain_index_map[training_pairs.iloc[i]['domain1']]\n",
      "    company2_index = domain_index_map[training_pairs.iloc[i]['domain2']]\n",
      "    dim_reduc[i][0] = company_SVD[0][company1_index].dot(company_SVD[0][company2_index])"
     ],
     "language": "python",
     "metadata": {},
     "outputs": [],
     "prompt_number": 51
    },
    {
     "cell_type": "heading",
     "level": 4,
     "metadata": {},
     "source": [
      "Classifier (KNN)"
     ]
    },
    {
     "cell_type": "code",
     "collapsed": false,
     "input": [
      "features = np.concatenate((dot_products, jaccard, common_sizes), axis = 1)"
     ],
     "language": "python",
     "metadata": {},
     "outputs": [],
     "prompt_number": 84
    },
    {
     "cell_type": "markdown",
     "metadata": {},
     "source": [
      "Now we'll see how that matches up with the known scores."
     ]
    },
    {
     "cell_type": "code",
     "collapsed": false,
     "input": [
      "from sklearn.model_selection import train_test_split\n",
      "\n",
      "from sklearn.neighbors import KNeighborsClassifier\n",
      "from sklearn.ensemble import AdaBoostClassifier\n",
      "from sklearn.ensemble import GradientBoostingClassifier\n",
      "from sklearn.linear_model import LogisticRegression\n",
      "\n",
      "from sklearn.preprocessing import StandardScaler \n",
      "from sklearn.svm import SVC\n",
      "\n",
      "\n",
      "clf_svc = SVC()\n",
      "known_ratings = np.array(training_pairs['rating'])\n",
      "X_train, X_test, y_train, y_test = train_test_split(features, known_ratings, random_state=1)\n",
      "\n",
      "\n",
      "\n",
      "\n",
      "clf_svc.fit(X_train, y_train)\n",
      "predicted_svc = clf_svc.predict(X_test)\n",
      "        \n",
      "    \n",
      "\n",
      "    \n",
      "    \n",
      " \n",
      "\n",
      "clf_knn = KNeighborsClassifier(n_neighbors=10)\n",
      "#clf = AdaBoostClassifier(n_estimators=1000)\n",
      "#clf = GradientBoostingClassifier(n_estimators=100, learning_rate=1.0,\n",
      "#                                 max_depth=1, random_state=0)    \n",
      "#clf = LogisticRegression(penalty='l2', class_weight={1:1, 3:0.9})\n",
      "\n",
      "\n",
      "\n",
      "\n",
      "######### May need this scaler, depending on the classifier\n",
      "#scaler = StandardScaler()  \n",
      "#scaler.fit(X_train)  \n",
      "#X_train = scaler.transform(X_train)  \n",
      "## apply same transformation to test data\n",
      "#X_test = scaler.transform(X_test)  \n",
      "\n",
      "# Fit the model\n",
      "clf_knn.fit(X_train, y_train)\n",
      "\n",
      "# Make predictions\n",
      "predicted_knn = clf_knn.predict(X_test)\n"
     ],
     "language": "python",
     "metadata": {},
     "outputs": [],
     "prompt_number": 85
    },
    {
     "cell_type": "code",
     "collapsed": false,
     "input": [
      "accuracy = predicted_knn - y_test\n",
      "correctness = float(len(accuracy[accuracy == 0]))/len(accuracy)\n",
      "underestimation = float(len(accuracy[accuracy > 0]))/len(accuracy)\n",
      "overestimation = float(len(accuracy[accuracy < 0]))/len(accuracy)\n",
      "print('Percent correct = ' +  str(correctness))\n",
      "print('Percent underestimated = ' +  str(underestimation))\n",
      "print('Percent overestimated = ' +  str(overestimation))"
     ],
     "language": "python",
     "metadata": {},
     "outputs": [
      {
       "output_type": "stream",
       "stream": "stdout",
       "text": [
        "Percent correct = 0.840816326531\n",
        "Percent underestimated = 0.0612244897959\n",
        "Percent overestimated = 0.0979591836735\n"
       ]
      }
     ],
     "prompt_number": 86
    },
    {
     "cell_type": "code",
     "collapsed": false,
     "input": [
      "mean_squared_error = float(sum(np.square(accuracy)))/len(accuracy)\n",
      "print('MSE = ' + str(mean_squared_error))\n",
      "mean_absolute_value_error = float(sum(abs(accuracy)))/len(accuracy)\n",
      "print('Mean Error = ' + str(mean_absolute_value_error))"
     ],
     "language": "python",
     "metadata": {},
     "outputs": [
      {
       "output_type": "stream",
       "stream": "stdout",
       "text": [
        "MSE = 0.636734693878\n",
        "Mean Error = 0.318367346939\n"
       ]
      }
     ],
     "prompt_number": 87
    },
    {
     "cell_type": "markdown",
     "metadata": {},
     "source": [
      "Now, we make a confusion matrix for evaluation"
     ]
    },
    {
     "cell_type": "code",
     "collapsed": false,
     "input": [
      "import itertools\n",
      "import numpy as np\n",
      "import matplotlib.pyplot as plt\n",
      "\n",
      "from sklearn import svm, datasets\n",
      "from sklearn.metrics import confusion_matrix\n",
      "\n",
      "\n",
      "# Split the data into a training set and a test set\n",
      "# X_train, X_test, y_train, y_test = train_test_split(X, y, random_state=0)\n",
      "\n",
      "# Run classifier, using a model that is too regularized (C too low) to see\n",
      "# the impact on the results\n",
      "#classifier = svm.SVC(kernel='linear', C=0.01)\n",
      "#y_pred = classifier.fit(X_train, y_train).predict(X_test)\n",
      "\n",
      "class_names = np.array([1,3])\n",
      "\n",
      "def plot_confusion_matrix(cm, classes,\n",
      "                          normalize=False,\n",
      "                          title='Confusion matrix',\n",
      "                          cmap=plt.cm.Blues):\n",
      "    \"\"\"\n",
      "    This function prints and plots the confusion matrix.\n",
      "    Normalization can be applied by setting `normalize=True`.\n",
      "    \"\"\"\n",
      "    plt.imshow(cm, interpolation='nearest', cmap=cmap)\n",
      "    plt.title(title)\n",
      "    plt.colorbar()\n",
      "    tick_marks = np.arange(len(classes))\n",
      "    plt.xticks(tick_marks, classes, rotation=45)\n",
      "    plt.yticks(tick_marks, classes)\n",
      "\n",
      "    if normalize:\n",
      "        cm = cm.astype('float') / cm.sum(axis=1)[:, np.newaxis]\n",
      "        print(\"Normalized confusion matrix\")\n",
      "    else:\n",
      "        print('Confusion matrix, without normalization')\n",
      "\n",
      "    print(cm)\n",
      "\n",
      "    thresh = cm.max() / 2.\n",
      "    for i, j in itertools.product(range(cm.shape[0]), range(cm.shape[1])):\n",
      "        plt.text(j, i, cm[i, j],\n",
      "                 horizontalalignment=\"center\",\n",
      "                 color=\"white\" if cm[i, j] > thresh else \"black\")\n",
      "\n",
      "    plt.tight_layout()\n",
      "    plt.ylabel('True label')\n",
      "    plt.xlabel('Predicted label')\n",
      "\n",
      "# Compute confusion matrix\n",
      "cnf_matrix = confusion_matrix(y_test, predicted_knn)\n",
      "np.set_printoptions(precision=2)\n",
      "\n",
      "# Plot non-normalized confusion matrix\n",
      "plt.figure()\n",
      "plot_confusion_matrix(cnf_matrix, classes=class_names,\n",
      "                      title='Confusion matrix, without normalization')\n",
      "\n",
      "# Plot normalized confusion matrix\n",
      "plt.figure()\n",
      "plot_confusion_matrix(cnf_matrix, classes=class_names, normalize=True,\n",
      "                      title='Normalized confusion matrix')\n",
      "\n",
      "plt.show()"
     ],
     "language": "python",
     "metadata": {},
     "outputs": [
      {
       "output_type": "stream",
       "stream": "stdout",
       "text": [
        "Confusion matrix, without normalization\n",
        "[[ 79  15]\n",
        " [ 24 127]]\n",
        "Normalized confusion matrix"
       ]
      },
      {
       "output_type": "stream",
       "stream": "stdout",
       "text": [
        "\n",
        "[[ 0.84  0.16]\n",
        " [ 0.16  0.84]]\n"
       ]
      },
      {
       "metadata": {},
       "output_type": "display_data",
       "png": "[encoded data removed]",
       "text": [
        "<matplotlib.figure.Figure at 0x12afa7250>"
       ]
      },
      {
       "metadata": {},
       "output_type": "display_data",
       "png": "[encoded data removed]",
       "text": [
        "<matplotlib.figure.Figure at 0x115400dd0>"
       ]
      }
     ],
     "prompt_number": 88
    },
    {
     "cell_type": "heading",
     "level": 1,
     "metadata": {},
     "source": [
      "Idea: Dimensionality Reduction"
     ]
    },
    {
     "cell_type": "markdown",
     "metadata": {},
     "source": [
      "First, create the document-term matrix"
     ]
    },
    {
     "cell_type": "markdown",
     "metadata": {},
     "source": [
      "Then, we take the SVD"
     ]
    },
    {
     "cell_type": "code",
     "collapsed": false,
     "input": [
      "SVD[1]"
     ],
     "language": "python",
     "metadata": {},
     "outputs": [
      {
       "metadata": {},
       "output_type": "pyout",
       "prompt_number": 81,
       "text": [
        "array([   6.21,    6.21,    6.21,    6.22,    6.22,    6.22,    6.23,\n",
        "          6.23,    6.23,    6.24,    6.24,    6.24,    6.25,    6.25,\n",
        "          6.26,    6.26,    6.26,    6.26,    6.27,    6.27,    6.27,\n",
        "          6.28,    6.28,    6.29,    6.29,    6.3 ,    6.3 ,    6.3 ,\n",
        "          6.31,    6.31,    6.31,    6.32,    6.32,    6.33,    6.33,\n",
        "          6.34,    6.34,    6.34,    6.34,    6.35,    6.35,    6.35,\n",
        "          6.36,    6.36,    6.37,    6.37,    6.38,    6.38,    6.38,\n",
        "          6.39,    6.39,    6.39,    6.4 ,    6.4 ,    6.41,    6.41,\n",
        "          6.41,    6.42,    6.42,    6.42,    6.43,    6.43,    6.43,\n",
        "          6.44,    6.44,    6.45,    6.45,    6.45,    6.45,    6.45,\n",
        "          6.46,    6.46,    6.47,    6.47,    6.47,    6.48,    6.48,\n",
        "          6.49,    6.49,    6.49,    6.49,    6.5 ,    6.5 ,    6.51,\n",
        "          6.51,    6.52,    6.52,    6.53,    6.53,    6.53,    6.53,\n",
        "          6.54,    6.54,    6.54,    6.55,    6.55,    6.56,    6.57,\n",
        "          6.57,    6.57,    6.57,    6.58,    6.58,    6.58,    6.59,\n",
        "          6.59,    6.6 ,    6.6 ,    6.61,    6.61,    6.61,    6.62,\n",
        "          6.62,    6.63,    6.64,    6.64,    6.64,    6.64,    6.65,\n",
        "          6.65,    6.66,    6.66,    6.66,    6.67,    6.67,    6.68,\n",
        "          6.68,    6.68,    6.69,    6.69,    6.69,    6.7 ,    6.71,\n",
        "          6.71,    6.71,    6.72,    6.72,    6.73,    6.73,    6.73,\n",
        "          6.74,    6.74,    6.75,    6.75,    6.76,    6.76,    6.77,\n",
        "          6.77,    6.77,    6.78,    6.78,    6.79,    6.79,    6.79,\n",
        "          6.8 ,    6.8 ,    6.81,    6.81,    6.82,    6.82,    6.82,\n",
        "          6.83,    6.83,    6.83,    6.84,    6.85,    6.85,    6.85,\n",
        "          6.86,    6.86,    6.87,    6.87,    6.87,    6.88,    6.89,\n",
        "          6.89,    6.89,    6.9 ,    6.9 ,    6.9 ,    6.91,    6.91,\n",
        "          6.92,    6.92,    6.92,    6.93,    6.94,    6.94,    6.95,\n",
        "          6.95,    6.96,    6.96,    6.96,    6.97,    6.97,    6.98,\n",
        "          6.99,    6.99,    6.99,    7.  ,    7.  ,    7.01,    7.01,\n",
        "          7.02,    7.02,    7.02,    7.03,    7.03,    7.04,    7.04,\n",
        "          7.05,    7.05,    7.06,    7.06,    7.07,    7.07,    7.08,\n",
        "          7.08,    7.09,    7.09,    7.09,    7.1 ,    7.1 ,    7.11,\n",
        "          7.11,    7.11,    7.12,    7.13,    7.13,    7.13,    7.14,\n",
        "          7.14,    7.14,    7.15,    7.16,    7.16,    7.17,    7.17,\n",
        "          7.17,    7.18,    7.18,    7.19,    7.2 ,    7.2 ,    7.21,\n",
        "          7.21,    7.21,    7.22,    7.23,    7.23,    7.23,    7.24,\n",
        "          7.24,    7.25,    7.25,    7.25,    7.26,    7.26,    7.27,\n",
        "          7.28,    7.29,    7.29,    7.29,    7.3 ,    7.31,    7.31,\n",
        "          7.31,    7.32,    7.32,    7.33,    7.33,    7.34,    7.34,\n",
        "          7.35,    7.35,    7.36,    7.36,    7.36,    7.37,    7.38,\n",
        "          7.38,    7.39,    7.39,    7.4 ,    7.4 ,    7.4 ,    7.41,\n",
        "          7.41,    7.42,    7.44,    7.44,    7.45,    7.45,    7.45,\n",
        "          7.46,    7.46,    7.46,    7.47,    7.48,    7.48,    7.49,\n",
        "          7.5 ,    7.5 ,    7.5 ,    7.51,    7.52,    7.52,    7.53,\n",
        "          7.53,    7.54,    7.54,    7.55,    7.56,    7.56,    7.56,\n",
        "          7.57,    7.57,    7.58,    7.58,    7.59,    7.6 ,    7.6 ,\n",
        "          7.61,    7.62,    7.62,    7.63,    7.63,    7.64,    7.65,\n",
        "          7.65,    7.66,    7.66,    7.67,    7.67,    7.68,    7.68,\n",
        "          7.69,    7.69,    7.7 ,    7.71,    7.71,    7.72,    7.72,\n",
        "          7.73,    7.73,    7.74,    7.74,    7.75,    7.75,    7.76,\n",
        "          7.76,    7.77,    7.78,    7.78,    7.79,    7.79,    7.8 ,\n",
        "          7.81,    7.81,    7.83,    7.83,    7.83,    7.83,    7.85,\n",
        "          7.85,    7.85,    7.86,    7.87,    7.87,    7.89,    7.89,\n",
        "          7.9 ,    7.91,    7.91,    7.91,    7.92,    7.93,    7.94,\n",
        "          7.94,    7.95,    7.96,    7.96,    7.97,    7.98,    7.99,\n",
        "          7.99,    8.  ,    8.  ,    8.01,    8.01,    8.02,    8.03,\n",
        "          8.03,    8.04,    8.05,    8.05,    8.06,    8.07,    8.07,\n",
        "          8.08,    8.08,    8.1 ,    8.1 ,    8.11,    8.11,    8.12,\n",
        "          8.12,    8.13,    8.13,    8.14,    8.14,    8.15,    8.15,\n",
        "          8.16,    8.17,    8.17,    8.18,    8.19,    8.2 ,    8.2 ,\n",
        "          8.21,    8.22,    8.23,    8.23,    8.24,    8.25,    8.25,\n",
        "          8.26,    8.27,    8.28,    8.28,    8.29,    8.29,    8.29,\n",
        "          8.3 ,    8.31,    8.32,    8.32,    8.33,    8.35,    8.36,\n",
        "          8.36,    8.37,    8.37,    8.37,    8.38,    8.4 ,    8.4 ,\n",
        "          8.41,    8.41,    8.42,    8.44,    8.44,    8.45,    8.45,\n",
        "          8.46,    8.47,    8.48,    8.48,    8.49,    8.5 ,    8.51,\n",
        "          8.51,    8.52,    8.53,    8.53,    8.54,    8.54,    8.56,\n",
        "          8.56,    8.57,    8.58,    8.58,    8.59,    8.6 ,    8.6 ,\n",
        "          8.61,    8.62,    8.62,    8.63,    8.64,    8.65,    8.66,\n",
        "          8.66,    8.67,    8.69,    8.7 ,    8.7 ,    8.7 ,    8.72,\n",
        "          8.72,    8.73,    8.73,    8.75,    8.76,    8.76,    8.77,\n",
        "          8.78,    8.78,    8.8 ,    8.8 ,    8.81,    8.82,    8.83,\n",
        "          8.84,    8.85,    8.85,    8.86,    8.87,    8.89,    8.89,\n",
        "          8.9 ,    8.9 ,    8.91,    8.92,    8.93,    8.93,    8.94,\n",
        "          8.95,    8.96,    8.97,    8.97,    8.98,    8.99,    9.  ,\n",
        "          9.01,    9.02,    9.03,    9.03,    9.04,    9.06,    9.07,\n",
        "          9.08,    9.08,    9.09,    9.1 ,    9.1 ,    9.12,    9.12,\n",
        "          9.13,    9.14,    9.15,    9.16,    9.17,    9.19,    9.19,\n",
        "          9.21,    9.21,    9.22,    9.23,    9.23,    9.25,    9.25,\n",
        "          9.26,    9.27,    9.28,    9.29,    9.3 ,    9.3 ,    9.31,\n",
        "          9.31,    9.33,    9.35,    9.35,    9.35,    9.36,    9.37,\n",
        "          9.38,    9.4 ,    9.41,    9.42,    9.43,    9.44,    9.44,\n",
        "          9.45,    9.47,    9.47,    9.48,    9.48,    9.5 ,    9.51,\n",
        "          9.53,    9.54,    9.54,    9.56,    9.56,    9.57,    9.58,\n",
        "          9.59,    9.6 ,    9.61,    9.63,    9.63,    9.65,    9.65,\n",
        "          9.66,    9.68,    9.69,    9.7 ,    9.71,    9.72,    9.73,\n",
        "          9.75,    9.75,    9.76,    9.76,    9.78,    9.8 ,    9.81,\n",
        "          9.81,    9.83,    9.84,    9.85,    9.85,    9.87,    9.87,\n",
        "          9.89,    9.89,    9.92,    9.92,    9.93,    9.94,    9.95,\n",
        "          9.96,    9.97,    9.99,   10.02,   10.02,   10.03,   10.04,\n",
        "         10.05,   10.06,   10.07,   10.08,   10.09,   10.11,   10.12,\n",
        "         10.13,   10.14,   10.17,   10.17,   10.18,   10.19,   10.21,\n",
        "         10.21,   10.23,   10.23,   10.25,   10.26,   10.28,   10.29,\n",
        "         10.3 ,   10.33,   10.33,   10.35,   10.35,   10.38,   10.39,\n",
        "         10.4 ,   10.41,   10.42,   10.43,   10.45,   10.46,   10.47,\n",
        "         10.48,   10.52,   10.52,   10.54,   10.55,   10.55,   10.58,\n",
        "         10.6 ,   10.6 ,   10.61,   10.63,   10.66,   10.66,   10.67,\n",
        "         10.7 ,   10.7 ,   10.72,   10.73,   10.74,   10.75,   10.77,\n",
        "         10.78,   10.79,   10.81,   10.82,   10.83,   10.86,   10.86,\n",
        "         10.89,   10.9 ,   10.93,   10.94,   10.95,   10.95,   10.98,\n",
        "         10.98,   11.  ,   11.03,   11.04,   11.05,   11.08,   11.09,\n",
        "         11.1 ,   11.12,   11.13,   11.15,   11.17,   11.19,   11.2 ,\n",
        "         11.21,   11.23,   11.24,   11.27,   11.29,   11.29,   11.3 ,\n",
        "         11.32,   11.35,   11.37,   11.38,   11.4 ,   11.41,   11.42,\n",
        "         11.43,   11.45,   11.48,   11.5 ,   11.52,   11.53,   11.54,\n",
        "         11.56,   11.59,   11.61,   11.65,   11.65,   11.67,   11.69,\n",
        "         11.69,   11.72,   11.73,   11.75,   11.76,   11.79,   11.81,\n",
        "         11.84,   11.85,   11.86,   11.87,   11.89,   11.92,   11.93,\n",
        "         11.96,   11.98,   12.  ,   12.02,   12.02,   12.04,   12.07,\n",
        "         12.1 ,   12.15,   12.16,   12.17,   12.18,   12.2 ,   12.23,\n",
        "         12.25,   12.27,   12.28,   12.29,   12.31,   12.36,   12.36,\n",
        "         12.37,   12.39,   12.41,   12.44,   12.45,   12.46,   12.49,\n",
        "         12.5 ,   12.54,   12.56,   12.58,   12.6 ,   12.63,   12.64,\n",
        "         12.69,   12.69,   12.74,   12.75,   12.79,   12.8 ,   12.82,\n",
        "         12.83,   12.88,   12.92,   12.94,   12.96,   12.98,   13.02,\n",
        "         13.07,   13.09,   13.11,   13.13,   13.15,   13.16,   13.17,\n",
        "         13.21,   13.23,   13.27,   13.31,   13.34,   13.38,   13.39,\n",
        "         13.42,   13.42,   13.48,   13.49,   13.51,   13.53,   13.56,\n",
        "         13.6 ,   13.62,   13.62,   13.7 ,   13.71,   13.74,   13.79,\n",
        "         13.82,   13.85,   13.88,   13.92,   13.97,   14.01,   14.02,\n",
        "         14.05,   14.08,   14.09,   14.15,   14.17,   14.2 ,   14.24,\n",
        "         14.25,   14.27,   14.32,   14.35,   14.37,   14.41,   14.44,\n",
        "         14.51,   14.55,   14.61,   14.64,   14.69,   14.71,   14.76,\n",
        "         14.78,   14.83,   14.89,   14.91,   14.98,   14.99,   15.03,\n",
        "         15.07,   15.13,   15.17,   15.21,   15.25,   15.31,   15.33,\n",
        "         15.37,   15.4 ,   15.48,   15.55,   15.59,   15.63,   15.64,\n",
        "         15.66,   15.73,   15.86,   15.87,   15.89,   15.93,   16.  ,\n",
        "         16.1 ,   16.15,   16.21,   16.22,   16.29,   16.36,   16.39,\n",
        "         16.43,   16.58,   16.6 ,   16.61,   16.66,   16.77,   16.83,\n",
        "         16.87,   16.9 ,   16.94,   17.01,   17.13,   17.15,   17.22,\n",
        "         17.26,   17.3 ,   17.33,   17.36,   17.55,   17.56,   17.62,\n",
        "         17.68,   17.76,   17.77,   17.84,   17.94,   17.96,   18.11,\n",
        "         18.12,   18.23,   18.32,   18.46,   18.49,   18.54,   18.67,\n",
        "         18.69,   18.76,   18.8 ,   18.88,   18.96,   19.16,   19.24,\n",
        "         19.29,   19.5 ,   19.56,   19.66,   19.75,   19.88,   19.96,\n",
        "         20.08,   20.26,   20.45,   20.66,   20.72,   20.82,   21.09,\n",
        "         21.31,   21.48,   21.83,   21.9 ,   22.07,   22.27,   22.43,\n",
        "         22.77,   23.17,   23.38,   23.69,   23.97,   24.19,   24.38,\n",
        "         24.68,   24.87,   25.37,   25.73,   26.3 ,   26.45,   26.86,\n",
        "         27.34,   27.88,   28.28,   28.61,   28.73,   29.31,   29.96,\n",
        "         30.1 ,   30.74,   30.93,   31.99,   32.26,   33.39,   34.51,\n",
        "         35.07,   35.73,   37.24,   37.63,   38.64,   40.28,   41.76,\n",
        "         43.08,   47.71,   50.69,   57.68,   69.24,  155.01])"
       ]
      }
     ],
     "prompt_number": 81
    },
    {
     "cell_type": "code",
     "collapsed": false,
     "input": [
      "doc_topic = model.doc_topic_"
     ],
     "language": "python",
     "metadata": {},
     "outputs": [],
     "prompt_number": 223
    },
    {
     "cell_type": "markdown",
     "metadata": {},
     "source": [
      "To see how two documents compare, simply take the cosine distance of the probability vectors"
     ]
    },
    {
     "cell_type": "code",
     "collapsed": false,
     "input": [
      "#comparing company 0 with company 1\n",
      "doc_topic[0].dot(doc_topic[1])/(norm(doc_topic[0])*norm(doc_topic[1]))"
     ],
     "language": "python",
     "metadata": {},
     "outputs": [
      {
       "metadata": {},
       "output_type": "pyout",
       "prompt_number": 224,
       "text": [
        "0.099002282578939491"
       ]
      }
     ],
     "prompt_number": 224
    },
    {
     "cell_type": "markdown",
     "metadata": {},
     "source": [
      "To see if this improves our prediction, let's add it to the classifier"
     ]
    },
    {
     "cell_type": "code",
     "collapsed": false,
     "input": [
      "topic_scores = np.zeros(n_pairs)\n",
      "for i in range(n_pairs):\n",
      "    company1_index = domain_index_map[training_pairs.iloc[i]['domain1']]\n",
      "    company2_index = domain_index_map[training_pairs.iloc[i]['domain2']]\n",
      "    vec1 = doc_topic[company1_index]\n",
      "    vec2 = doc_topic[company2_index]\n",
      "    topic_scores[i] = vec1.dot(vec2)/(norm(vec1)*norm(vec2))\n",
      "\n"
     ],
     "language": "python",
     "metadata": {},
     "outputs": [],
     "prompt_number": 230
    },
    {
     "cell_type": "code",
     "collapsed": false,
     "input": [
      "ratings['topic'] = pd.Series(topic_scores)\n",
      "topic = np.array(ratings['topic'])\n",
      "pipeline_topic = topic.reshape((n_pairs,1))\n",
      "features = np.concatenate((features, pipeline_topic), axis = 1)\n"
     ],
     "language": "python",
     "metadata": {},
     "outputs": [],
     "prompt_number": 231
    },
    {
     "cell_type": "code",
     "collapsed": false,
     "input": [],
     "language": "python",
     "metadata": {},
     "outputs": [],
     "prompt_number": 226
    },
    {
     "cell_type": "code",
     "collapsed": false,
     "input": [
      "clf_svc = SVC()\n",
      "known_ratings = np.array(ratings['rating'])\n",
      "X_train, X_test, y_train, y_test = train_test_split(features, known_ratings, random_state=1)\n",
      "\n",
      "\n",
      "\n",
      "\n",
      "clf_svc.fit(X_train, y_train)\n",
      "predicted_svc = clf_svc.predict(X_test)\n",
      "        \n",
      "    \n",
      "\n",
      "    \n",
      "    \n",
      " \n",
      "\n",
      "clf_knn = KNeighborsClassifier(n_neighbors=10)\n",
      "#clf = AdaBoostClassifier(n_estimators=1000)\n",
      "#clf = GradientBoostingClassifier(n_estimators=100, learning_rate=1.0,\n",
      "#                                 max_depth=1, random_state=0)    \n",
      "#clf = LogisticRegression(penalty='l2', class_weight={1:1, 3:0.9})\n",
      "\n",
      "\n",
      "\n",
      "\n",
      "######### May need this scaler, depending on the classifier\n",
      "#scaler = StandardScaler()  \n",
      "#scaler.fit(X_train)  \n",
      "#X_train = scaler.transform(X_train)  \n",
      "## apply same transformation to test data\n",
      "#X_test = scaler.transform(X_test)  \n",
      "\n",
      "# Fit the model\n",
      "clf_knn.fit(X_train, y_train)\n",
      "\n",
      "# Make predictions\n",
      "predicted_knn = clf_knn.predict(X_test)"
     ],
     "language": "python",
     "metadata": {},
     "outputs": [],
     "prompt_number": 232
    },
    {
     "cell_type": "code",
     "collapsed": false,
     "input": [
      "cnf_matrix = confusion_matrix(y_test, predicted_knn)\n",
      "np.set_printoptions(precision=2)\n",
      "\n",
      "# Plot non-normalized confusion matrix\n",
      "plt.figure()\n",
      "plot_confusion_matrix(cnf_matrix, classes=class_names,\n",
      "                      title='Confusion matrix, without normalization')\n",
      "\n",
      "# Plot normalized confusion matrix\n",
      "plt.figure()\n",
      "plot_confusion_matrix(cnf_matrix, classes=class_names, normalize=True,\n",
      "                      title='Normalized confusion matrix')\n",
      "\n",
      "plt.show()"
     ],
     "language": "python",
     "metadata": {},
     "outputs": [
      {
       "output_type": "stream",
       "stream": "stdout",
       "text": [
        "Confusion matrix, without normalization\n",
        "[[ 75  19]\n",
        " [ 17 134]]\n",
        "Normalized confusion matrix"
       ]
      },
      {
       "output_type": "stream",
       "stream": "stdout",
       "text": [
        "\n",
        "[[ 0.8   0.2 ]\n",
        " [ 0.11  0.89]]\n"
       ]
      },
      {
       "metadata": {},
       "output_type": "display_data",
       "png": "[encoded data removed]",
       "text": [
        "<matplotlib.figure.Figure at 0x16b201090>"
       ]
      },
      {
       "metadata": {},
       "output_type": "display_data",
       "png": "[encoded data removed]",
       "text": [
        "<matplotlib.figure.Figure at 0x16b0e9290>"
       ]
      }
     ],
     "prompt_number": 233
    },
    {
     "cell_type": "code",
     "collapsed": false,
     "input": [
      "accuracy = predicted_knn - y_test"
     ],
     "language": "python",
     "metadata": {},
     "outputs": [],
     "prompt_number": 165
    }
   ],
   "metadata": {}
  }
 ]
}